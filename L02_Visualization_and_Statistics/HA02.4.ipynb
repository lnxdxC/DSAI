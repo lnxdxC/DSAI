{
 "cells": [
  {
   "cell_type": "markdown",
   "id": "cdaac188-80da-4718-b5b0-6dc5d8933129",
   "metadata": {},
   "source": [
    "# L02.3 Hands on statistical modeling\n",
    "In this hands-on session, you will:\n",
    "1. perform graphical investigations on real driving data\n",
    "2. apply data filtering \n",
    "3. derive a statistical noise model\n",
    "4. work with probabilties"
   ]
  },
  {
   "cell_type": "code",
   "execution_count": null,
   "id": "0df7162a-9301-4542-b449-3bd3dc7cdfd1",
   "metadata": {},
   "outputs": [],
   "source": [
    "import numpy as np\n",
    "import pandas as pd\n",
    "import matplotlib.pyplot as plt\n",
    "from scipy.stats import norm"
   ]
  },
  {
   "cell_type": "code",
   "execution_count": null,
   "id": "0737ab42-ba28-45fa-b54f-15922214ef9f",
   "metadata": {},
   "outputs": [],
   "source": [
    "from scipy import signal\n",
    "\n",
    "def filter_butterworth(x, order=4, cut_off_freq=0.2, sample_rate=100.0):\n",
    "    \"\"\"\n",
    "    Returns a filtered signal using butterworth filter. \\n\n",
    "    :param x: signal to filter\n",
    "    :type x: ndarray\n",
    "    :param order: order of the filter\n",
    "    :type order: int\n",
    "    :param cut_off_freq: cut-off frequency of the filter\n",
    "    :type cut_off_freq: float\n",
    "    :param sample_rate: sample rate of the signal\n",
    "    :type sample_rate: float\n",
    "    :return: filtered signal\n",
    "    :rtype: ndarray\n",
    "    \"\"\"\n",
    "    a, b = signal.butter(order, cut_off_freq, 'low', fs=sample_rate)\n",
    "    return signal.filtfilt(a, b, x.copy())"
   ]
  },
  {
   "cell_type": "markdown",
   "id": "8eac0f79-34e9-433a-bc48-e48d30eac9ec",
   "metadata": {
    "tags": []
   },
   "source": [
    "# 0. Data loading & cleansing\n",
    "Further information about the data and their meanings: \n",
    "```\n",
    "'time_stamp': time stamp in s\n",
    "'ay_raw': raw lateral acceleration in m/s^2. ay < 0 --> right; ay > 0 --> left\n",
    "'vx_raw': raw longitudinal velocity in m/s\n",
    "'lkas_status': status information of the LKAS in -\n",
    "'lon': longitude in deg\n",
    "'lat': latitude in deg\n",
    "'d2ll': distance to left line marking in m\n",
    "'d2rl': distance to right line marking in m\n",
    "'d2cl': distance to center of the road in m\n",
    "```"
   ]
  },
  {
   "cell_type": "markdown",
   "id": "2e5f3a8c-2fb6-4be9-8394-206e7c7292a9",
   "metadata": {},
   "source": [
    "## 0.1 Loading data"
   ]
  },
  {
   "cell_type": "code",
   "execution_count": null,
   "id": "80ab103d-f51e-45e5-a756-010bbea017b5",
   "metadata": {},
   "outputs": [],
   "source": [
    "data = pd.read_csv('https://raw.githubusercontent.com/lnxdxC/DSAI/main/L02_Visualization_and_Statistics/data/motion_data.csv')"
   ]
  },
  {
   "cell_type": "markdown",
   "id": "2b51b825-66ea-4c34-8c22-0a0d08ed7d11",
   "metadata": {},
   "source": [
    "### ✏️ Visualize the driven trajectory of the vehicle by using a suitable plot type"
   ]
  },
  {
   "cell_type": "code",
   "execution_count": null,
   "id": "2580787d-0efe-4cbe-a13a-64ae8d98148a",
   "metadata": {},
   "outputs": [],
   "source": [
    "plt.figure()\n",
    "plt.plot(data.lat, data.lon)\n",
    "plt.xlabel('Latitude in deg')\n",
    "plt.ylabel('Longitude in deg')"
   ]
  },
  {
   "cell_type": "markdown",
   "id": "bcda50c6-6de4-48ee-92b4-800c28631c88",
   "metadata": {},
   "source": [
    "### ❓ Question 1:\n",
    "#### What type of plot did you choose and why did you choose it?\n",
    "\n",
    "\n",
    "#### How high do you rate the trustworthiness of this representation? Are there any special features to look out for here?\n"
   ]
  },
  {
   "cell_type": "markdown",
   "id": "1f558dc7-2437-43fd-9c84-7e8851fb057d",
   "metadata": {},
   "source": [
    "### ✏️ Visualize the lateral accelearion of the vehicle by using a suitable plot type"
   ]
  },
  {
   "cell_type": "code",
   "execution_count": null,
   "id": "cfa8aeb3-e0af-4aee-a1cb-e0c6a2a2b8a0",
   "metadata": {},
   "outputs": [],
   "source": []
  },
  {
   "cell_type": "markdown",
   "id": "f225404f-1eed-4bbf-9972-e925c17ba504",
   "metadata": {},
   "source": [
    "### ❓ Question 2:\n",
    "#### What type of plot did you choose and why did you choose it?\n",
    "\n",
    "#### Describe the signal you are seeing. Is the signal accurate? Whats about the noise of the signal? What's about outlier?"
   ]
  },
  {
   "cell_type": "markdown",
   "id": "70f229f1-b5ea-4d5d-b88e-b675f7537aaa",
   "metadata": {},
   "source": [
    "### ✏️ 0.2 Filter acceleration data with a provided filter\n",
    "Apply the provided filter on *ay_raw* to get the filtered signal for further processing. All required methods are implemented in *filter_butterworth*."
   ]
  },
  {
   "cell_type": "code",
   "execution_count": null,
   "id": "9adbbafe-dd38-46ea-b743-e0c7a5b31fe8",
   "metadata": {},
   "outputs": [],
   "source": [
    "data['ay_filtered'] = filter_butterworth(x)"
   ]
  },
  {
   "cell_type": "markdown",
   "id": "97af584d-547c-404a-ac5e-526da0d90f40",
   "metadata": {},
   "source": [
    "### ✏️ Visualize both lateral accelearions of the vehicle only if the lane keeping assistant system (LKAS) was active."
   ]
  },
  {
   "cell_type": "markdown",
   "id": "73e86270-658d-4571-98e7-5506daf18a26",
   "metadata": {},
   "source": [
    "# 1 Statistical model\n",
    "### ✏️ 1.1 Determine the *difference signal* between both lateral accelerations\n",
    "Assuming, that the filtered signal respresents the ground truth (GT) signal, we can determine the difference between the observed signal (obs) and the ground truth.\n",
    "We can express this as: \n",
    "\\begin{align}\n",
    "\\bar{x}_{obs} = \\bar{x}_{GT} + \\gamma\n",
    "\\end{align}\n",
    "Whereby $ \\gamma $ represents the noise of the measurement."
   ]
  },
  {
   "cell_type": "code",
   "execution_count": null,
   "id": "0c211f17-78d3-4f41-9c32-e97d9187c579",
   "metadata": {},
   "outputs": [],
   "source": [
    "ay_diff = x - y"
   ]
  },
  {
   "cell_type": "markdown",
   "id": "8a516b98-eaf2-49bb-a2f1-3b96b3c46595",
   "metadata": {},
   "source": [
    "### ✏️ 1.1 Determine the most important statistical parameters from the *difference signal*. Plot the noise of the measured signal to obtain a statistical model from that.\n",
    "In simulation environments, we often have ideal sensors. However, the sensors do not provide realistic data because, for example, they are not noisy. In order to test the entire tool chain with simulated data, we also want the ideal data to be noisy. We create a noise model $ \\gamma $ using the most important statistical parameters.\n",
    "\n",
    "In the following, we will obtain a sensor model matching\n",
    "\\begin{align}\n",
    "    \\gamma \\sim \\mathcal{N}(\\mu, \\sigma)\n",
    "\\end{align}"
   ]
  },
  {
   "cell_type": "code",
   "execution_count": null,
   "id": "c7039ced-e056-4ee6-84b4-9d493ef08551",
   "metadata": {},
   "outputs": [],
   "source": [
    "mean = \n",
    "stddev = "
   ]
  },
  {
   "cell_type": "code",
   "execution_count": null,
   "id": "ff27676c-a450-4044-b1e4-735c37adaabc",
   "metadata": {},
   "outputs": [],
   "source": [
    "fig, ax = plt.subplots(figsize=(12,5))\n",
    "\n",
    "# Determine the numbers of bins\n",
    "nbins = int(2*ay_diff.size**(1.0/3.0))\n",
    "n, bins, patches = ax.hist(ay_diff, bins=nbins, density=True, alpha=0.2);\n",
    "\n",
    "# add a gaussian bell curve\n",
    "gaussian = ((1 / (np.sqrt(2 * np.pi) * stddev)) * np.exp(-0.5 * (1 / stddev * (bins - mean))**2))\n",
    "ax.plot(bins, gaussian)\n",
    "ax.set_xlim([-2, 2]);"
   ]
  },
  {
   "cell_type": "code",
   "execution_count": null,
   "id": "111d2d72-3780-46b7-b99a-9786ef647269",
   "metadata": {},
   "outputs": [],
   "source": [
    "# Determine noisy signal by using mean and std\n",
    "gamma = np.random.normal(mean, stddev, len(data['time_stamp']))"
   ]
  },
  {
   "cell_type": "code",
   "execution_count": null,
   "id": "655015cf-da07-4c55-868b-372624cd5e4a",
   "metadata": {},
   "outputs": [],
   "source": [
    "fig = plt.figure(figsize=(15,5))\n",
    "\n",
    "plt.plot(data.time_stamp, data.ay_filtered + gamma, alpha = 0.5, label='Model')\n",
    "\n",
    "plt.plot(data.time_stamp, data.ay_raw, color=[0.5, 0.5, 0.5], alpha=0.2, label='INS, raw')\n",
    "plt.plot(data.time_stamp, data.ay_filtered, label='INS, filtered')\n",
    "\n",
    "plt.xlabel('Time in s')\n",
    "plt.ylabel(r'a_y in m/s$^2$')\n",
    "plt.xlim([0, data.time_stamp.iloc[-1]])\n",
    "\n",
    "plt.legend()\n",
    "plt.show()"
   ]
  },
  {
   "cell_type": "markdown",
   "id": "4e395929-7fc9-4f60-9422-0732894d9133",
   "metadata": {},
   "source": [
    "# 2. Probabilities\n",
    "### ✏️ 2.1 Determine the probability, that the noise is within a given interval.\n",
    "\n",
    "Suppose you are driving your car, which is equipped with an IMU for high-precision motion measurement, on a straight section of road. You randomly draw a measured value from the entire measurement. With what probability is the __noise__ in the range of 0.125 m/s² and 0.25 m/s²?\n",
    "\n",
    "Hint: To determine the probability, take a closer look into the cumulative distribution function [cdf](https://en.wikipedia.org/wiki/Cumulative_distribution_function). You are allowed to use the cdf function of scipy to solve the problem. "
   ]
  },
  {
   "cell_type": "code",
   "execution_count": null,
   "id": "cba30516-56ab-45e5-82fc-b8903c243c15",
   "metadata": {},
   "outputs": [],
   "source": [
    "x1 = 0.125\n",
    "x2 = 0.25\n",
    "\n",
    "px = np.linspace(x1, x2, 50)\n",
    "x = \n",
    "\n",
    "fig, ax = plt.subplots(figsize=(15, 5))\n",
    "ax.plot(x, norm(mean, stddev).pdf(x), color='gray', alpha=0.3)\n",
    "ax.fill_between(px, norm(mean, stddev).pdf(px), alpha=0.5, hatch='//')\n",
    "\n",
    "ax.set_xlim([-1.25, 1.25])\n",
    "ax.set_ylim([0, 1.4])"
   ]
  },
  {
   "cell_type": "code",
   "execution_count": null,
   "id": "4bdd635d-f5eb-48a4-8c34-0caf758a8157",
   "metadata": {},
   "outputs": [],
   "source": [
    "def z_score(x, mu, sigma):\n",
    "    return x"
   ]
  },
  {
   "cell_type": "code",
   "execution_count": null,
   "id": "aa9fb160-51ce-4039-a0ca-a1a9f71d702f",
   "metadata": {},
   "outputs": [],
   "source": [
    "def get_probability(x1, x2, mu, sigma):\n",
    "    return np.abs(norm.cdf(x2) - norm.cdf(x1))"
   ]
  },
  {
   "cell_type": "code",
   "execution_count": null,
   "id": "3c865c84-b4bf-4822-8279-44b1821c581a",
   "metadata": {},
   "outputs": [],
   "source": [
    "print(f'Probability to be between {x1} and {x2} is {np.round(get_probability(x1, x2, mean, stddev)*100, 2)} %')"
   ]
  },
  {
   "cell_type": "markdown",
   "id": "b1a99b1a-d412-41de-985b-508026b34210",
   "metadata": {},
   "source": [
    "### ✏️ 2.2 You randomly draw a measured value from the ground truth channel. With what probability you are driving on a left curve with 0.35-0.40 m/s²?\n",
    "Rember the channel information! While using right-hand system of coordinates, ay > 0 means a right curve. "
   ]
  },
  {
   "cell_type": "code",
   "execution_count": null,
   "id": "44e48b70-3b99-4a90-a502-185d37501c40",
   "metadata": {},
   "outputs": [],
   "source": [
    "x1 = \n",
    "x2 = \n",
    "\n",
    "mean = np.mean(data.ay_filtered)\n",
    "stddev = np.std(data.ay_filtered)\n",
    "\n",
    "px = np.linspace(x1, x2, 1000)\n",
    "\n",
    "fig, ax = plt.subplots(figsize=(15, 5))\n",
    "ax.plot(x, norm(mean, stddev).pdf(x), color='gray', alpha=0.3)\n",
    "ax.fill_between(px, norm(mean, stddev).pdf(px), alpha=0.5, hatch='//')\n",
    "\n",
    "print(f'Probability to be between {x1} and {x2} is {np.round(get_probability(x1, x2, mean, stddev)*100,2)} %')"
   ]
  },
  {
   "cell_type": "markdown",
   "id": "e6edacb9-0721-4988-8dc0-e4fd9ea5a40d",
   "metadata": {},
   "source": [
    "### 2.3 Knowledge discovery\n",
    "#### ❓ 2.3.1 On which road type we are driving? Choose between \"Highway\" and \"Bundesstraße\" by means of the data"
   ]
  },
  {
   "cell_type": "code",
   "execution_count": null,
   "id": "29c45201-7147-4139-ae8e-f3dcdd04476c",
   "metadata": {},
   "outputs": [],
   "source": []
  },
  {
   "cell_type": "markdown",
   "id": "a65e02e2-3696-46fd-a42f-bb5be0ebac6a",
   "metadata": {},
   "source": [
    "#### ❓ 2.3.2 Compare the distances to the left (d2ll) and right lane marking (d2rl). Are you driving more often on the left or on the side of the road?"
   ]
  },
  {
   "cell_type": "code",
   "execution_count": null,
   "id": "7b37ffc8-274f-44b4-a894-8ba764993181",
   "metadata": {},
   "outputs": [],
   "source": []
  },
  {
   "cell_type": "code",
   "execution_count": null,
   "id": "3e26535d-63d2-48a1-be23-9062964b7c19",
   "metadata": {},
   "outputs": [],
   "source": []
  },
  {
   "cell_type": "code",
   "execution_count": null,
   "id": "c18b7471-87dc-4993-9510-aeee0966e57c",
   "metadata": {},
   "outputs": [],
   "source": []
  }
 ],
 "metadata": {
  "kernelspec": {
   "display_name": "Python 3",
   "language": "python",
   "name": "python3"
  },
  "language_info": {
   "codemirror_mode": {
    "name": "ipython",
    "version": 3
   },
   "file_extension": ".py",
   "mimetype": "text/x-python",
   "name": "python",
   "nbconvert_exporter": "python",
   "pygments_lexer": "ipython3",
   "version": "3.9.2"
  }
 },
 "nbformat": 4,
 "nbformat_minor": 5
}
