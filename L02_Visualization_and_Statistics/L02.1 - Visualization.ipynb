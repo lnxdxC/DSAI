{
 "cells": [
  {
   "cell_type": "markdown",
   "metadata": {},
   "source": [
    "# L02 Visualization in Python 🐍"
   ]
  },
  {
   "cell_type": "markdown",
   "metadata": {},
   "source": [
    "## 2.1 Matplotlib\n",
    "[Matplotlib](https://matplotlib.org/) is widely used library to create plots and figures in python. We will use the library to create all kind of plots.\n",
    "\n",
    "![](https://matplotlib.org/_static/logo2_compressed.svg)\n",
    "\n",
    "We recommend this [Tutorial](https://towardsdatascience.com/data-visualization-using-matplotlib-16f1aae5ce70)"
   ]
  },
  {
   "cell_type": "code",
   "execution_count": null,
   "metadata": {},
   "outputs": [],
   "source": [
    "# Include numpy and link instance to variable np\n",
    "import numpy as np\n",
    "\n",
    "# Include library and link instance to plt\n",
    "import matplotlib.pyplot as plt\n",
    "\n",
    "# Set style\n",
    "plt.style.use('seaborn-deep')\n",
    "# Display which styles are available out of the box\n",
    "print(plt.style.available)"
   ]
  },
  {
   "cell_type": "code",
   "execution_count": null,
   "metadata": {},
   "outputs": [],
   "source": [
    "# Minimal example\n",
    "import matplotlib.pyplot as plt\n",
    "import numpy as np\n",
    "# Data preperation\n",
    "x = np.linspace(0,10,100)\n",
    "y = np.tanh(x)\n",
    "\n",
    "# Plot and configuration\n",
    "fig = plt.figure()\n",
    "plt.plot(x, y, label=r'$f(x) = tanh(x) $')\n",
    "plt.legend()\n",
    "plt.grid()\n",
    "plt.xlabel('t in s')\n",
    "plt.ylabel('f(x) in -')\n",
    "#fig.savefig('figname.png', bbox_inches='tight', transparent=True)"
   ]
  },
  {
   "cell_type": "markdown",
   "metadata": {},
   "source": [
    "### 2.1.1 Data set and preparation"
   ]
  },
  {
   "cell_type": "code",
   "execution_count": null,
   "metadata": {},
   "outputs": [],
   "source": [
    "# Create artificial data set\n",
    "x = np.arange(0.0, 5.0, 0.01)  # (start, end, increment)\n",
    "y = 1 + np.sin(2 * np.pi * x)  # f(x) = 1 + sin(2x) = y\n",
    "\n",
    "# import iris data set\n",
    "from sklearn import datasets\n",
    "from sklearn.decomposition import PCA  # PCA is shown in lecture 4\n",
    "\n",
    "iris = datasets.load_iris()\n",
    "x_iris = iris.data[:, :2]  # get only the first two features. Remeber: :2 --> [0;2[\n",
    "y_iris = iris.target"
   ]
  },
  {
   "cell_type": "markdown",
   "metadata": {},
   "source": [
    "### 2.1.2 2D line plot"
   ]
  },
  {
   "cell_type": "code",
   "execution_count": null,
   "metadata": {},
   "outputs": [],
   "source": [
    "fig, ax = plt.subplots()  # figure holds global parameters; ax hold axis specific parameter such as labels, values, ... \n",
    "ax.plot(x, y, color='k', linestyle='dashed', label='f(x) = 1 + sin(2x)')  # line plot with specific parameters\n",
    "\n",
    "ax.set_xlabel('time in s')  # set x label manually\n",
    "ax.set_ylabel('f(x) in -')  # set y label manually\n",
    "# ax.set(xlabel='time in s', ylabel='f(x) in -')  # set both labels in one call\n",
    "\n",
    "ax.grid()  # display grid\n",
    "plt.show()  # display image"
   ]
  },
  {
   "cell_type": "code",
   "execution_count": null,
   "metadata": {},
   "outputs": [],
   "source": [
    "# We can activate an interactive tool (% - called magic in jupyter) to make a plot more pleasant\n",
    "%matplotlib qt"
   ]
  },
  {
   "cell_type": "code",
   "execution_count": null,
   "metadata": {},
   "outputs": [],
   "source": [
    "# Display magic\n",
    "fig, ax = plt.subplots()  # figure holds global parameters; ax hold axis specific parameter such as labels, values, ... \n",
    "ax.plot(x, np.tanh(x), color='#005f6a', label='f(x) = tan(x)')\n",
    "\n",
    "ax.set(xlabel='time in s', ylabel=r'$f(x) = tanh(x)$ ')  # LaTeX is possible\n",
    "\n",
    "ax.grid()  # display grid\n",
    "plt.show()  # display image"
   ]
  },
  {
   "cell_type": "markdown",
   "metadata": {},
   "source": [
    "### 2.1.3 2D scatter plot"
   ]
  },
  {
   "cell_type": "code",
   "execution_count": null,
   "metadata": {},
   "outputs": [],
   "source": [
    "x_min, x_max = x_iris[:, 0].min() - .5, x_iris[:, 0].max() + .5\n",
    "y_min, y_max = x_iris[:, 1].min() - .5, x_iris[:, 1].max() + .5\n",
    "\n",
    "fig, ax = plt.subplots()\n",
    "\n",
    "# Plot the data set\n",
    "ax.scatter(x_iris[:, 0], x_iris[:, 1], c=y_iris, cmap=plt.cm.Set1, edgecolor='k', s=100)\n",
    "\n",
    "ax.set_xlabel('Sepal length')\n",
    "ax.set_ylabel('Sepal width')\n",
    "\n",
    "ax.set_xlim(x_min, x_max)\n",
    "ax.set_ylim(y_min, y_max)\n",
    "plt.xticks(());\n",
    "plt.yticks(());"
   ]
  },
  {
   "cell_type": "markdown",
   "metadata": {},
   "source": [
    "### 2.2.4 3D scatter plot"
   ]
  },
  {
   "cell_type": "code",
   "execution_count": null,
   "metadata": {},
   "outputs": [],
   "source": [
    "from mpl_toolkits.mplot3d import Axes3D  # Need further modules for 3D.\n",
    "\n",
    "fig = plt.figure(1, figsize=(8, 6))  # We define the image size in inches\n",
    "ax = Axes3D(fig, elev=-150, azim=110)  # Define the 3D axis with alignments\n",
    "\n",
    "X_reduced = PCA(n_components=3).fit_transform(iris.data)  # Linear dimensionality reduction using Singular Value Decomposition\n",
    "\n",
    "ax.scatter(X_reduced[:, 0], X_reduced[:, 1], X_reduced[:, 2], c=y_iris, cmap=plt.cm.Set1, edgecolor='k', s=100)\n",
    "\n",
    "ax.set_xlabel(\"1. Eigenvector (SVD)\")\n",
    "ax.w_xaxis.set_ticklabels([])\n",
    "\n",
    "ax.set_ylabel(\"2. Eigenvector (SVD)\")\n",
    "ax.w_yaxis.set_ticklabels([])\n",
    "\n",
    "ax.set_zlabel(\"3. Eigenvector (SVD)\")\n",
    "ax.w_zaxis.set_ticklabels([])\n",
    "\n",
    "plt.show()"
   ]
  },
  {
   "cell_type": "markdown",
   "metadata": {},
   "source": [
    "### 2.2.5 2D image"
   ]
  },
  {
   "cell_type": "code",
   "execution_count": null,
   "metadata": {},
   "outputs": [],
   "source": [
    "fig, ax = plt.subplots() \n",
    "a = plt.imread(\"https://pics.me.me/reality-behind-data-science-70933954.png\")\n",
    "ax.imshow(a);"
   ]
  },
  {
   "cell_type": "code",
   "execution_count": null,
   "metadata": {},
   "outputs": [],
   "source": [
    "import matplotlib.patches as patches\n",
    "from matplotlib.patches import Rectangle\n",
    "fig, ax = plt.subplots() \n",
    "a = plt.imread(\"https://pics.me.me/reality-behind-data-science-70933954.png\")\n",
    "ax.imshow(a);\n",
    "ax.add_patch(patches.Rectangle((10, 350), 220, 100, fill=True, color='red', alpha=0.5))"
   ]
  },
  {
   "cell_type": "code",
   "execution_count": null,
   "metadata": {},
   "outputs": [],
   "source": []
  },
  {
   "cell_type": "markdown",
   "metadata": {},
   "source": [
    "### 2.2.6 2D hist plot"
   ]
  },
  {
   "cell_type": "code",
   "execution_count": null,
   "metadata": {},
   "outputs": [],
   "source": [
    "fig, ax = plt.subplots()\n",
    "\n",
    "#np.random.seed(123456789)\n",
    "mu = 0  # Mean of distribution\n",
    "sigma = 2  # Standard deviation of distribution\n",
    "x = mu + sigma * np.random.randn(10000)\n",
    "\n",
    "num_bins = 100  # Number of bins\n",
    "\n",
    "# The histogram of the data\n",
    "n, bins, patches = ax.hist(x, num_bins, density=True, color='k', alpha=0.2)\n",
    "\n",
    "# add a gaussian line\n",
    "y_gaussian = ((1 / (np.sqrt(2 * np.pi) * sigma)) * np.exp(-0.5 * (1 / sigma * (bins - mu))**2))\n",
    "\n",
    "ax.plot(bins, y_gaussian, color='#005f6a')\n",
    "ax.set_xlabel('Samples in -')\n",
    "ax.set_ylabel('Probability density in 1/-')\n",
    "\n",
    "ax.set_title(r'Histogram of IQ: $\\mu=' + str(mu) + '$, $\\sigma=' + str(sigma) + '$')\n",
    "\n",
    "plt.show()\n",
    "#fig.savefig('hist.png',bbox_inches='tight', transparent=True)"
   ]
  },
  {
   "cell_type": "code",
   "execution_count": null,
   "metadata": {},
   "outputs": [],
   "source": []
  }
 ],
 "metadata": {
  "kernelspec": {
   "display_name": "Python 3",
   "language": "python",
   "name": "python3"
  },
  "language_info": {
   "codemirror_mode": {
    "name": "ipython",
    "version": 3
   },
   "file_extension": ".py",
   "mimetype": "text/x-python",
   "name": "python",
   "nbconvert_exporter": "python",
   "pygments_lexer": "ipython3",
   "version": "3.9.2"
  }
 },
 "nbformat": 4,
 "nbformat_minor": 4
}
