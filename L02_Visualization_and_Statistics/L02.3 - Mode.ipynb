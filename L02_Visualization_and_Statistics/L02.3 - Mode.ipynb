{
 "cells": [
  {
   "cell_type": "markdown",
   "id": "3cb7325e-0e35-4cdb-86ce-a1128efb90f0",
   "metadata": {},
   "source": [
    "# L02.3 Mode, class widths and densities\n",
    "In this notebook we'll have a closer look into a data set to determine the mode. "
   ]
  },
  {
   "cell_type": "code",
   "execution_count": null,
   "id": "20c6a69d-4b4f-4a2b-869a-3c37902ca87f",
   "metadata": {},
   "outputs": [],
   "source": [
    "import pandas as pd\n",
    "\n",
    "# Read the data\n",
    "df = pd.read_csv('https://raw.githubusercontent.com/lnxdxC/DSAI/main/L02_Visualization_and_Statistics/data/grades.csv')"
   ]
  },
  {
   "cell_type": "code",
   "execution_count": null,
   "id": "4db92f13-4e71-45ef-a8f9-393abf32e224",
   "metadata": {},
   "outputs": [],
   "source": [
    "df.head()"
   ]
  },
  {
   "cell_type": "code",
   "execution_count": null,
   "id": "8eb90a32-8632-4ec5-92bd-ecaa69dee416",
   "metadata": {},
   "outputs": [],
   "source": [
    "# Rename the 'Absolute frequency' into n_c to match our nomenclature\n",
    "df = df.rename({'Absolute frequency': 'n_c'}, axis=1)"
   ]
  },
  {
   "cell_type": "markdown",
   "id": "02c52515-baf1-47ed-98cf-4769bf2f3b3b",
   "metadata": {},
   "source": [
    "### L02.3.1 Determine the class width $ w_c = x_c^u - x_c^l $  for each class"
   ]
  },
  {
   "cell_type": "code",
   "execution_count": null,
   "id": "2edaa40c-e17e-409c-a037-0b4e54db4103",
   "metadata": {},
   "outputs": [],
   "source": [
    "df[['x_l','x_u']] = df['Exam Points'].str.split('-',expand=True).astype(float)\n",
    "df['w'] = df['x_u'] - df['x_l']"
   ]
  },
  {
   "cell_type": "markdown",
   "id": "03eee883-2fb2-4c34-af26-7bde95a59684",
   "metadata": {},
   "source": [
    "### L02.3.2 Determine the relative frequency $f_{r, c} = \\frac{n_c}{n}$ of each class"
   ]
  },
  {
   "cell_type": "code",
   "execution_count": null,
   "id": "2fa7f719-f391-408e-b39d-ababcb206693",
   "metadata": {},
   "outputs": [],
   "source": [
    "df['f_r'] = df['n_c'] / df['n_c'].sum()\n",
    "print(df.head())"
   ]
  },
  {
   "cell_type": "markdown",
   "id": "499cfa21-2787-4781-8256-1a5e6572f6af",
   "metadata": {},
   "source": [
    "### L02.3.3 Determine the frequency densities $ d_{c} = \\frac{f_{r, c}}{w_c} $"
   ]
  },
  {
   "cell_type": "code",
   "execution_count": null,
   "id": "8ce51b87-97a8-4acc-9697-d44387beaa48",
   "metadata": {},
   "outputs": [],
   "source": [
    "df['d'] = df['f_r'] / df['w']"
   ]
  },
  {
   "cell_type": "markdown",
   "id": "d061fd63-36b6-46ea-8cff-bb65c3417904",
   "metadata": {},
   "source": [
    "### L02.3.4 Determine the mode using: $ x_\\text{mod} =x_{M}^{l}+{\\frac {d_{M}-d_{M-1}}{2\\,d_{M}-d_{M-1}-d_{M+1}}}(x_{M}^{u}-x_{M}^{l}) $"
   ]
  },
  {
   "cell_type": "code",
   "execution_count": null,
   "id": "a8c27c98-b1a9-43b0-b6af-f4b31ca4a340",
   "metadata": {},
   "outputs": [],
   "source": [
    "mci = df['d'].argmax()  # mci = modal_class_idx\n",
    "mod = df['x_l'][mci] + ((df.d[mci] - df.d[mci-1]) / (2 * df.d[mci] - df.d[mci-1] - df.d[mci+1])) * (df['x_u'][mci] - df['x_l'][mci])"
   ]
  },
  {
   "cell_type": "code",
   "execution_count": null,
   "id": "6098f512-a3a5-4b2b-899a-98a757266059",
   "metadata": {},
   "outputs": [],
   "source": [
    "print('Mode: ' + str(mod.round(2)))"
   ]
  },
  {
   "cell_type": "code",
   "execution_count": null,
   "id": "f3af5d9c-208e-40b1-90fb-1be6768f32dc",
   "metadata": {},
   "outputs": [],
   "source": []
  }
 ],
 "metadata": {
  "kernelspec": {
   "display_name": "Python 3",
   "language": "python",
   "name": "python3"
  },
  "language_info": {
   "codemirror_mode": {
    "name": "ipython",
    "version": 3
   },
   "file_extension": ".py",
   "mimetype": "text/x-python",
   "name": "python",
   "nbconvert_exporter": "python",
   "pygments_lexer": "ipython3",
   "version": "3.9.2"
  }
 },
 "nbformat": 4,
 "nbformat_minor": 5
}
