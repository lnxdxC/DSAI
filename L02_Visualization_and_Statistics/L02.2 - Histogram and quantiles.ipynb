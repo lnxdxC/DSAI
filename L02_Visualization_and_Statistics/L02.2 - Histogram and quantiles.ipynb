{
 "cells": [
  {
   "cell_type": "markdown",
   "id": "827b4ad8-6c79-4004-9fdb-884f0b3099c5",
   "metadata": {},
   "source": [
    "# L02.2 Histogram and quantiles in Python 🐍\n",
    "In this notebook we deal with histograms. Based on histograms, we develop a function for the generic determination of the so-called quantiles. "
   ]
  },
  {
   "cell_type": "code",
   "execution_count": null,
   "id": "a1ee0b7c-2cd1-4abe-8e48-285ac081cfcd",
   "metadata": {},
   "outputs": [],
   "source": [
    "import numpy as np\n",
    "import matplotlib.pyplot as plt"
   ]
  },
  {
   "cell_type": "markdown",
   "id": "a7606ada-041f-4946-ab4f-bcf7f8dd1709",
   "metadata": {},
   "source": [
    "### Dataset\n",
    "Life time (in years) of 87 cooling units (in order of size)"
   ]
  },
  {
   "cell_type": "code",
   "execution_count": null,
   "id": "efd7609d-0c71-4aa9-856a-055734316848",
   "metadata": {},
   "outputs": [],
   "source": [
    "y = np.array([0.05,0.06,0.06,0.08,0.11,0.13,0.15,0.16,0.20,\n",
    "             0.22,0.24,0.25,0.25,0.28,0.31,0.34,0.37,0.42,\n",
    "             0.43,0.47,0.51,0.51,0.53,0.59,0.60,0.61,0.63,\n",
    "             0.68,0.75,0.76,0.76,0.79,0.87,0.88,0.88,0.92,\n",
    "             0.99,1.12,1.16,1.18,1.22,1.27,1.35,1.38,1.39,\n",
    "             1.42,1.45,1.49,1.53,1.69,1.74,1.81,1.83,1.87,\n",
    "             1.92,1.93,2.07,2.09,2.15,2.22,2.24,2.36,2.39,\n",
    "             2.41,2.47,2.49,2.53,2.64,2.69,2.83,2.90,3.21,\n",
    "             3.25,3.49,3.61,3.80,3.88,4.37,4.58,4.62,5.29,\n",
    "             5.68,6.02,6.23,6.71,7.82,9.93])\n",
    "x = np.arange(y.size)  # Running index from 0 to y.size"
   ]
  },
  {
   "cell_type": "code",
   "execution_count": null,
   "id": "b2b707a4-2856-466d-9b7e-92ffb44c7de3",
   "metadata": {},
   "outputs": [],
   "source": [
    "fig, ax = plt.subplots(3, figsize=(12,8), sharex=True)  # Three subplots in one figure. Axes are arranged as arrays. We share one common x-axis throuth all subplots.\n",
    "\n",
    "fig.suptitle('Sorted device life time in years')  # General title of the plot\n",
    "\n",
    "# Plot 0\n",
    "ax[0].plot(x,y, color='#79AEA3')\n",
    "ax[0].set_ylabel('Life time in y')\n",
    "ax[0].grid()\n",
    "\n",
    "# Plot 1\n",
    "ax[1].plot(x,y, marker='o', color='#79AEA3')\n",
    "ax[1].set_ylabel('Life time in y')\n",
    "ax[1].grid()\n",
    "\n",
    "# Plot 2\n",
    "ax[2].scatter(x,y, color='#79AEA3')\n",
    "ax[2].set_ylabel('Life time in y')\n",
    "ax[2].set_xlabel('Device ID')\n",
    "ax[2].grid()\n",
    "\n",
    "#fig.savefig('cooling_devices.png', bbox_inches='tight', transparent=True)"
   ]
  },
  {
   "cell_type": "code",
   "execution_count": null,
   "id": "4da00561-afdb-4a95-bac5-883c1315c21b",
   "metadata": {},
   "outputs": [],
   "source": [
    "nbin = 10\n",
    "fig = plt.figure(figsize=(12,8))\n",
    "plt.hist(y, bins=nbin, zorder=10, color='#79AEA3')\n",
    "plt.grid()\n",
    "plt.ylabel('Frequency distribution in %')\n",
    "plt.xlabel('Life time in y')"
   ]
  },
  {
   "cell_type": "code",
   "execution_count": null,
   "id": "e5ae7349-2dab-42ab-8831-69f46a219238",
   "metadata": {},
   "outputs": [],
   "source": [
    "nbin = 9\n",
    "fig = plt.figure(figsize=(12,8))\n",
    "plt.title('bins = ' + str(nbin))\n",
    "plt.hist(y, bins=nbin, zorder=10, color='#79AEA3')\n",
    "plt.grid()\n",
    "plt.ylabel('Frequency distribution in %')\n",
    "plt.xlabel('Life time in y')"
   ]
  },
  {
   "cell_type": "code",
   "execution_count": null,
   "id": "6a20241d-8dc4-4d66-a92f-ce3aeff6fdce",
   "metadata": {},
   "outputs": [],
   "source": [
    "### Rice`s rule\n",
    "def get_bins(x):\n",
    "    return int(2*(x.size**(1.0/3.0)))"
   ]
  },
  {
   "cell_type": "code",
   "execution_count": null,
   "id": "da098a8d-177e-4bd5-acde-9a503a99606f",
   "metadata": {},
   "outputs": [],
   "source": [
    "nbin = get_bins(y)\n",
    "fig = plt.figure(figsize=(12,8))\n",
    "plt.title('bins = ' + str(nbin))\n",
    "plt.hist(y, bins=nbin, zorder=10, color='#79AEA3')\n",
    "plt.grid()\n",
    "plt.ylabel('Frequency distribution in %')\n",
    "plt.xlabel('Life time in y')"
   ]
  },
  {
   "cell_type": "markdown",
   "id": "0813b4e8-a8e9-4458-9d98-d84e3dea891e",
   "metadata": {},
   "source": [
    "## L02.2 Median and quantiles"
   ]
  },
  {
   "cell_type": "code",
   "execution_count": null,
   "id": "34f4619a-450e-4cca-a357-ba3decd3f6d2",
   "metadata": {},
   "outputs": [],
   "source": [
    "x_sorted = np.sort(y)\n",
    "median = x_sorted[int(x_sorted.size/2)]  # smoother: x_sorted[x_sorted.size//2]"
   ]
  },
  {
   "cell_type": "code",
   "execution_count": null,
   "id": "dbd0e301-444f-4175-a4ec-1f4970ffcc67",
   "metadata": {},
   "outputs": [],
   "source": [
    "int(x_sorted.size/2)"
   ]
  },
  {
   "cell_type": "code",
   "execution_count": null,
   "id": "94e39833-1074-4538-976b-07354d3d07d0",
   "metadata": {},
   "outputs": [],
   "source": [
    "np.allclose(median, np.median(x_sorted))"
   ]
  },
  {
   "cell_type": "code",
   "execution_count": null,
   "id": "2bf7dfea-229b-49d9-9d41-d73e243a8b10",
   "metadata": {},
   "outputs": [],
   "source": [
    "def quantile(x, n=None, p=0.25):\n",
    "    \"\"\"\n",
    "    Determines the p-quantile of a given array. \\n\n",
    "    :param x: input array\n",
    "    :type x: np.array\n",
    "    \n",
    "    \"\"\"\n",
    "    # Checking the datatype of x. If it is numpy array, we can use it as it is. Otherwise we cast it\n",
    "    if isinstance(x, np.ndarray): \n",
    "        n = x.size\n",
    "    else: \n",
    "        x = np.array(x)\n",
    "        n = x.size\n",
    "    \n",
    "    # Distinquish between even and odd case\n",
    "    if (n*p) % 2 == 0:\n",
    "        return 0.5*(x[int(n*p)] + x[int(n*p) + 1]), int(n*p)\n",
    "    else: \n",
    "        return x[int(np.floor(n*p)) + 1], int(n*p)"
   ]
  },
  {
   "cell_type": "code",
   "execution_count": null,
   "id": "c69cc2c0-7290-4886-848e-5a23a660dade",
   "metadata": {},
   "outputs": [],
   "source": [
    "fig = plt.figure(figsize=(8,5))\n",
    "plt.grid()\n",
    "plt.bar(x, x_sorted, color='#79AEA3', alpha=0.5)\n",
    "\n",
    "# 0.25 quantile\n",
    "quant = 0.25\n",
    "val, pos = quantile(x=y, p=quant)\n",
    "plt.bar(x[pos], x_sorted[pos], color='#0B2027', label=r'$x_{(' + str(quant) + ')}$')\n",
    "\n",
    "# 0.5 quantile = median\n",
    "quant = 0.5\n",
    "val, pos = quantile(x=y, p=quant)\n",
    "plt.bar(x[pos], x_sorted[pos], color='#DB5461', label=r'$x_{(' + str(quant) + ')}$')\n",
    "\n",
    "# 0.75 quantile\n",
    "quant = 0.75\n",
    "val, pos = quantile(x=y, p=quant)\n",
    "plt.bar(x[pos], x_sorted[pos], color='#006EB4', label=r'$x_{(' + str(quant) + ')}$')\n",
    "\n",
    "plt.xlabel('Samples in -')\n",
    "plt.ylabel('Life time in y')\n",
    "plt.legend()\n",
    "#fig.savefig('median.png', bbox_inches='tight', transparent=True)"
   ]
  },
  {
   "cell_type": "code",
   "execution_count": null,
   "id": "591b80c0-f4d2-4b08-8942-31566e349c91",
   "metadata": {},
   "outputs": [],
   "source": []
  }
 ],
 "metadata": {
  "kernelspec": {
   "display_name": "Python 3",
   "language": "python",
   "name": "python3"
  },
  "language_info": {
   "codemirror_mode": {
    "name": "ipython",
    "version": 3
   },
   "file_extension": ".py",
   "mimetype": "text/x-python",
   "name": "python",
   "nbconvert_exporter": "python",
   "pygments_lexer": "ipython3",
   "version": "3.9.2"
  }
 },
 "nbformat": 4,
 "nbformat_minor": 5
}
