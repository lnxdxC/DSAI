{
  "nbformat": 4,
  "nbformat_minor": 0,
  "metadata": {
    "colab": {
      "name": "L05_12_AdaBoost.ipynb",
      "provenance": [],
      "collapsed_sections": []
    },
    "kernelspec": {
      "name": "python3",
      "display_name": "Python 3"
    },
    "language_info": {
      "name": "python"
    }
  },
  "cells": [
    {
      "cell_type": "markdown",
      "source": [
        "# Random Forrests\n"
      ],
      "metadata": {
        "id": "pR3S9v0wZO9f"
      }
    },
    {
      "cell_type": "markdown",
      "source": [
        "## Import needed modules"
      ],
      "metadata": {
        "id": "j07tMoMoZq6Q"
      }
    },
    {
      "cell_type": "code",
      "source": [
        "from sklearn.datasets import *\n",
        "from IPython.display import Image, display_svg, SVG\n",
        "from matplotlib import pyplot as plt\n",
        "from tqdm import tqdm\n",
        "from ipywidgets import interact, interactive, fixed, interact_manual\n",
        "import ipywidgets as widgets\n",
        "from sklearn.model_selection import train_test_split\n",
        "from sklearn.metrics import mean_squared_error\n",
        "from sklearn.ensemble import AdaBoostRegressor"
      ],
      "metadata": {
        "id": "EFy_-4tw_rjn"
      },
      "execution_count": 1,
      "outputs": []
    },
    {
      "cell_type": "markdown",
      "source": [
        "## Install and import missing dependencies"
      ],
      "metadata": {
        "id": "jElmT6mjZuY4"
      }
    },
    {
      "cell_type": "code",
      "execution_count": 2,
      "metadata": {
        "id": "mdSEmlx5_leO",
        "colab": {
          "base_uri": "https://localhost:8080/"
        },
        "outputId": "51aae0fc-763a-4540-c097-885391a07fd9"
      },
      "outputs": [
        {
          "output_type": "stream",
          "name": "stdout",
          "text": [
            "\u001b[?25l\r\u001b[K     |█████▎                          | 10 kB 18.6 MB/s eta 0:00:01\r\u001b[K     |██████████▋                     | 20 kB 10.1 MB/s eta 0:00:01\r\u001b[K     |████████████████                | 30 kB 7.8 MB/s eta 0:00:01\r\u001b[K     |█████████████████████▎          | 40 kB 6.5 MB/s eta 0:00:01\r\u001b[K     |██████████████████████████▋     | 51 kB 5.6 MB/s eta 0:00:01\r\u001b[K     |████████████████████████████████| 61 kB 5.6 MB/s eta 0:00:01\r\u001b[K     |████████████████████████████████| 61 kB 111 kB/s \n",
            "\u001b[?25h  Building wheel for dtreeviz (setup.py) ... \u001b[?25l\u001b[?25hdone\n"
          ]
        }
      ],
      "source": [
        "!pip install -q dtreeviz\n",
        "from dtreeviz.trees import *"
      ]
    },
    {
      "cell_type": "markdown",
      "source": [
        "## Filter warnings\n",
        "The dtreeviz packages reports some missing fonts, we disable the warnings for now."
      ],
      "metadata": {
        "id": "JIFzkjslZz69"
      }
    },
    {
      "cell_type": "code",
      "source": [
        "import warnings\n",
        "warnings.filterwarnings('ignore')"
      ],
      "metadata": {
        "id": "qlzCluipW7te"
      },
      "execution_count": 3,
      "outputs": []
    },
    {
      "cell_type": "markdown",
      "source": [
        "## Load the Diabetes dataset\n",
        "Notice: Compared to the previous exercises (dimension reduction), we do not need to prepare the data further. Therefore, we do not need to apply any scaling."
      ],
      "metadata": {
        "id": "W-XuwJ-sDOcf"
      }
    },
    {
      "cell_type": "code",
      "source": [
        "ds = load_diabetes()\n",
        "\n",
        "X = ds.data\n",
        "y = ds.target\n",
        "\n",
        "feature_names = ds.feature_names\n",
        "#class_names = ds.target_names\n",
        "\n",
        "print(f\"Len of the dataset: {len(X)}\")\n",
        "print(f\"Features: {feature_names}\")\n",
        "#print(f\"Classes: {class_names}\")"
      ],
      "metadata": {
        "colab": {
          "base_uri": "https://localhost:8080/"
        },
        "id": "98I9HNGPWYMB",
        "outputId": "25a98c7b-b3b4-4134-8be6-94321cc4c126"
      },
      "execution_count": 4,
      "outputs": [
        {
          "output_type": "stream",
          "name": "stdout",
          "text": [
            "Len of the dataset: 442\n",
            "Features: ['age', 'sex', 'bmi', 'bp', 's1', 's2', 's3', 's4', 's5', 's6']\n"
          ]
        }
      ]
    },
    {
      "cell_type": "markdown",
      "source": [
        "## Split the dataset into train and test sets"
      ],
      "metadata": {
        "id": "HctTeGspnOD6"
      }
    },
    {
      "cell_type": "code",
      "source": [
        "X_train, X_test, y_train, y_test = train_test_split(X, y, test_size=0.10,shuffle=True, random_state=42)"
      ],
      "metadata": {
        "id": "p3e1__B_lcEg"
      },
      "execution_count": 5,
      "outputs": []
    },
    {
      "cell_type": "markdown",
      "source": [
        "## Train the Regression Trees and track the performance"
      ],
      "metadata": {
        "id": "f_U8IjT-ckoE"
      }
    },
    {
      "cell_type": "code",
      "source": [
        "# define the various depths\n",
        "estimators = [1,2,4,5,10,20,50,100,200]\n",
        "\n",
        "# train and store the regressors\n",
        "regressors = []\n",
        "\n",
        "for e in tqdm(estimators):\n",
        "  # init and train the classifier\n",
        "  r = AdaBoostRegressor(random_state=1,n_estimators=e)\n",
        "  r.fit(X_train, y_train)\n",
        "\n",
        "  #print(f\"y: {y.shape}\")\n",
        "  #print(f\"p: {r.predict(X_test)}\")\n",
        "\n",
        "  mse_test = mean_squared_error(y_test, r.predict(X_test))\n",
        "  mse_train = mean_squared_error(y_train, r.predict(X_train))\n",
        "\n",
        "  # append the depth, classifier visualization to the list\n",
        "  regressors.append(\n",
        "      {\n",
        "          'estimators': e,\n",
        "          'regressor': r,\n",
        "          'mse_test': mse_test,\n",
        "          'mse_train': mse_train\n",
        "      }\n",
        "  )"
      ],
      "metadata": {
        "colab": {
          "base_uri": "https://localhost:8080/"
        },
        "id": "iNdLOzeicwmX",
        "outputId": "ad92ba48-4591-42c9-965a-23b2d1836c49"
      },
      "execution_count": 24,
      "outputs": [
        {
          "output_type": "stream",
          "name": "stderr",
          "text": [
            "100%|██████████| 9/9 [00:00<00:00, 14.87it/s]\n"
          ]
        }
      ]
    },
    {
      "cell_type": "code",
      "source": [
        "es = [r['estimators'] for r in regressors]\n",
        "test_erros = [r['mse_test'] for r in regressors]\n",
        "train_erros = [r['mse_train'] for r in regressors]"
      ],
      "metadata": {
        "id": "OFx7RGcImWav"
      },
      "execution_count": 25,
      "outputs": []
    },
    {
      "cell_type": "code",
      "source": [
        "plt.figure(figsize=(6,5))\n",
        "plt.plot(es,train_erros,'k.-',label=\"train\")\n",
        "plt.plot(es,test_erros,'r.-',label=\"test\")\n",
        "plt.legend()\n",
        "plt.xlabel(\"number of estimators\")\n",
        "plt.ylabel(\"mean squared error\")\n",
        "plt.title(\"Train vs. Test Errors\");"
      ],
      "metadata": {
        "colab": {
          "base_uri": "https://localhost:8080/",
          "height": 350
        },
        "id": "oEeFaDEImf3v",
        "outputId": "8647325f-f0ab-4d4a-e6e5-fd13dd7620ad"
      },
      "execution_count": 26,
      "outputs": [
        {
          "output_type": "display_data",
          "data": {
            "text/plain": [
              "<Figure size 432x360 with 1 Axes>"
            ],
            "image/png": "[encoded data removed]"
          },
          "metadata": {
            "needs_background": "light"
          }
        }
      ]
    }
  ]
}