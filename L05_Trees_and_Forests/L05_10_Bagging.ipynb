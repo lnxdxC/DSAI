{
  "nbformat": 4,
  "nbformat_minor": 0,
  "metadata": {
    "colab": {
      "name": "L05_10_Bagging.ipynb",
      "provenance": [],
      "collapsed_sections": []
    },
    "kernelspec": {
      "name": "python3",
      "display_name": "Python 3"
    },
    "language_info": {
      "name": "python"
    }
  },
  "cells": [
    {
      "cell_type": "markdown",
      "source": [
        "# Bagging\n"
      ],
      "metadata": {
        "id": "pR3S9v0wZO9f"
      }
    },
    {
      "cell_type": "markdown",
      "source": [
        "## Import needed modules"
      ],
      "metadata": {
        "id": "j07tMoMoZq6Q"
      }
    },
    {
      "cell_type": "code",
      "source": [
        "from sklearn.datasets import *\n",
        "from IPython.display import Image, display_svg, SVG\n",
        "from matplotlib import pyplot as plt\n",
        "from tqdm import tqdm\n",
        "from ipywidgets import interact, interactive, fixed, interact_manual\n",
        "import ipywidgets as widgets\n",
        "from sklearn.model_selection import train_test_split\n",
        "from sklearn.metrics import mean_squared_error\n",
        "from sklearn.ensemble import BaggingRegressor"
      ],
      "metadata": {
        "id": "EFy_-4tw_rjn"
      },
      "execution_count": null,
      "outputs": []
    },
    {
      "cell_type": "markdown",
      "source": [
        "## Install and import missing dependencies"
      ],
      "metadata": {
        "id": "jElmT6mjZuY4"
      }
    },
    {
      "cell_type": "code",
      "execution_count": null,
      "metadata": {
        "id": "mdSEmlx5_leO"
      },
      "outputs": [],
      "source": [
        "!pip install -q dtreeviz\n",
        "from dtreeviz.trees import *"
      ]
    },
    {
      "cell_type": "markdown",
      "source": [
        "## Filter warnings\n",
        "The dtreeviz packages reports some missing fonts, we disable the warnings for now."
      ],
      "metadata": {
        "id": "JIFzkjslZz69"
      }
    },
    {
      "cell_type": "code",
      "source": [
        "import warnings\n",
        "warnings.filterwarnings('ignore')"
      ],
      "metadata": {
        "id": "qlzCluipW7te"
      },
      "execution_count": null,
      "outputs": []
    },
    {
      "cell_type": "markdown",
      "source": [
        "## Load the Diabetes dataset\n",
        "Notice: Compared to the previous exercises (dimension reduction), we do not need to prepare the data further. Therefore, we do not need to apply any scaling."
      ],
      "metadata": {
        "id": "W-XuwJ-sDOcf"
      }
    },
    {
      "cell_type": "code",
      "source": [
        "ds = load_diabetes()\n",
        "\n",
        "X = ds.data\n",
        "y = ds.target\n",
        "\n",
        "feature_names = ds.feature_names\n",
        "#class_names = ds.target_names\n",
        "\n",
        "print(f\"Len of the dataset: {len(X)}\")\n",
        "print(f\"Features: {feature_names}\")\n",
        "#print(f\"Classes: {class_names}\")"
      ],
      "metadata": {
        "colab": {
          "base_uri": "https://localhost:8080/"
        },
        "id": "98I9HNGPWYMB",
        "outputId": "8fccab21-d4e7-4e2e-cbea-254bdea2d629"
      },
      "execution_count": null,
      "outputs": [
        {
          "output_type": "stream",
          "name": "stdout",
          "text": [
            "Len of the dataset: 442\n",
            "Features: ['age', 'sex', 'bmi', 'bp', 's1', 's2', 's3', 's4', 's5', 's6']\n"
          ]
        }
      ]
    },
    {
      "cell_type": "markdown",
      "source": [
        "## Split the dataset into train and test sets"
      ],
      "metadata": {
        "id": "HctTeGspnOD6"
      }
    },
    {
      "cell_type": "code",
      "source": [
        "X_train, X_test, y_train, y_test = train_test_split(X, y, test_size=0.10,shuffle=True, random_state=42)"
      ],
      "metadata": {
        "id": "p3e1__B_lcEg"
      },
      "execution_count": null,
      "outputs": []
    },
    {
      "cell_type": "markdown",
      "source": [
        "## Train the Regression Trees and track the performance"
      ],
      "metadata": {
        "id": "f_U8IjT-ckoE"
      }
    },
    {
      "cell_type": "code",
      "source": [
        "# define the various depths\n",
        "max_depth = 15\n",
        "depths = range(1, max_depth)\n",
        "\n",
        "# train and store the regressors\n",
        "regressors = []\n",
        "\n",
        "for d in tqdm(depths):\n",
        "  # init and train the classifier\n",
        "  r = BaggingRegressor(base_estimator=tree.DecisionTreeRegressor(max_depth=d) ,n_estimators=100, random_state=0)\n",
        "  r.fit(X_train, y_train)\n",
        "\n",
        "  #print(f\"y: {y.shape}\")\n",
        "  #print(f\"p: {r.predict(X_test)}\")\n",
        "\n",
        "  mse_test = mean_squared_error(y_test, r.predict(X_test))\n",
        "  mse_train = mean_squared_error(y_train, r.predict(X_train))\n",
        "\n",
        "  # append the depth, classifier visualization to the list\n",
        "  regressors.append(\n",
        "      {\n",
        "          'depth': d,\n",
        "          'regressor': r,\n",
        "          'mse_test': mse_test,\n",
        "          'mse_train': mse_train\n",
        "      }\n",
        "  )"
      ],
      "metadata": {
        "colab": {
          "base_uri": "https://localhost:8080/"
        },
        "id": "iNdLOzeicwmX",
        "outputId": "e34bb93c-f44e-454a-b39d-c3389d59acc5"
      },
      "execution_count": null,
      "outputs": [
        {
          "output_type": "stream",
          "name": "stderr",
          "text": [
            "100%|██████████| 14/14 [00:05<00:00,  2.62it/s]\n"
          ]
        }
      ]
    },
    {
      "cell_type": "code",
      "source": [
        "depths = [r['depth'] for r in regressors]\n",
        "test_erros = [r['mse_test'] for r in regressors]\n",
        "train_erros = [r['mse_train'] for r in regressors]"
      ],
      "metadata": {
        "id": "OFx7RGcImWav"
      },
      "execution_count": null,
      "outputs": []
    },
    {
      "cell_type": "code",
      "source": [
        "plt.figure(figsize=(6,5))\n",
        "plt.plot(depths,train_erros,'k.-',label=\"train\")\n",
        "plt.plot(depths,test_erros,'r.-',label=\"test\")\n",
        "plt.legend()\n",
        "plt.xlabel(\"tree depth\")\n",
        "plt.ylabel(\"mean squared error\")\n",
        "plt.title(\"Train vs. Test Errors\");"
      ],
      "metadata": {
        "colab": {
          "base_uri": "https://localhost:8080/",
          "height": 350
        },
        "id": "oEeFaDEImf3v",
        "outputId": "09699261-e9e0-42e7-9e94-3f5a6d429687"
      },
      "execution_count": null,
      "outputs": [
        {
          "output_type": "display_data",
          "data": {
            "text/plain": [
              "<Figure size 432x360 with 1 Axes>"
            ],
            "image/png": "[encoded data removed]"
          },
          "metadata": {
            "needs_background": "light"
          }
        }
      ]
    },
    {
      "cell_type": "code",
      "source": [
        ""
      ],
      "metadata": {
        "id": "cXjJ5M3JrWt-"
      },
      "execution_count": null,
      "outputs": []
    }
  ]
}