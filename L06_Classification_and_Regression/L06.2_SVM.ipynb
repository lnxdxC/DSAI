{
 "cells": [
  {
   "cell_type": "markdown",
   "id": "2fe85bab-8f8c-4790-8eff-fb6191c93185",
   "metadata": {},
   "source": [
    "# L06.2 Support Vector Machine \n",
    "In the following we will explain the SVM classification by using the sklearn implementation."
   ]
  },
  {
   "cell_type": "code",
   "execution_count": 1,
   "id": "6a97e7e0-c10e-4141-89bc-acc7b1a06132",
   "metadata": {},
   "outputs": [],
   "source": [
    "import numpy as np\n",
    "import matplotlib.pyplot as plt\n",
    "from sklearn.datasets import load_iris\n",
    "from sklearn.model_selection import train_test_split\n",
    "from sklearn import svm"
   ]
  },
  {
   "cell_type": "markdown",
   "id": "3456184e-1493-420a-9b5d-480895de8e65",
   "metadata": {},
   "source": [
    "### L06.2.0 Warm up"
   ]
  },
  {
   "cell_type": "markdown",
   "id": "3fd9d336-949f-4717-beb4-7e73b473787d",
   "metadata": {},
   "source": [
    "Let us construct a simple data set to work with."
   ]
  },
  {
   "cell_type": "code",
   "execution_count": 2,
   "id": "680dc247-0f2c-4c5c-a196-39d289925b73",
   "metadata": {},
   "outputs": [],
   "source": [
    "X = np.array([[1,2], [5,8], [1.5,1.8], [8,8], [1,0.6], [9,11]])  # Feature list (2d)\n",
    "y = [0,1,0,1,0,1]  # Class affiliation (1d)"
   ]
  },
  {
   "cell_type": "code",
   "execution_count": 3,
   "id": "9d6f50f1-0eeb-40a7-b5a2-af9ff290a279",
   "metadata": {},
   "outputs": [
    {
     "data": {
      "text/plain": [
       "Text(0, 0.5, 'Y')"
      ]
     },
     "execution_count": 3,
     "metadata": {},
     "output_type": "execute_result"
    },
    {
     "data": {
      "image/png": "[encoded data removed]",
      "text/plain": [
       "<Figure size 432x288 with 1 Axes>"
      ]
     },
     "metadata": {
      "needs_background": "light"
     },
     "output_type": "display_data"
    }
   ],
   "source": [
    "# Display the data\n",
    "plt.scatter(X[:,0],X[:,1], c='#79AEA3', s=100)\n",
    "plt.xlabel('X')\n",
    "plt.ylabel('Y')"
   ]
  },
  {
   "cell_type": "markdown",
   "id": "4e160b89-d09e-4861-af64-c5380b912f17",
   "metadata": {},
   "source": [
    "#### Create object on the SVM class"
   ]
  },
  {
   "cell_type": "code",
   "execution_count": 4,
   "id": "1ea60390-7410-4fff-ac90-fde36f727214",
   "metadata": {},
   "outputs": [],
   "source": [
    "classifier = svm.SVC(kernel='linear')  # With that call we instantiate the SVM as linear "
   ]
  },
  {
   "cell_type": "markdown",
   "id": "73b58ea8-8904-4588-9321-a943567ee896",
   "metadata": {},
   "source": [
    "#### Train the model"
   ]
  },
  {
   "cell_type": "code",
   "execution_count": 5,
   "id": "77a7e481-2639-4ef4-a0a7-edeff1244f45",
   "metadata": {},
   "outputs": [
    {
     "data": {
      "text/plain": [
       "SVC(kernel='linear')"
      ]
     },
     "execution_count": 5,
     "metadata": {},
     "output_type": "execute_result"
    }
   ],
   "source": [
    "classifier.fit(X,y)  # In sklearn, fit is the method to train any model."
   ]
  },
  {
   "cell_type": "markdown",
   "id": "089d2007-aa38-407f-a99a-f7bad37554f3",
   "metadata": {},
   "source": [
    "#### Use the trained model for prediction"
   ]
  },
  {
   "cell_type": "code",
   "execution_count": 6,
   "id": "1ac22a28-0e2e-4951-af1d-ff7b5ea8242e",
   "metadata": {},
   "outputs": [
    {
     "name": "stdout",
     "output_type": "stream",
     "text": [
      "[0]\n"
     ]
    }
   ],
   "source": [
    "point_to_predict = [3,3]  # Point to predict\n",
    "\n",
    "# Predict the class of the given point. Ensure to hand over a 2d-array\n",
    "print(classifier.predict([point_to_predict]))"
   ]
  },
  {
   "cell_type": "markdown",
   "id": "c3bd3489-3dfd-478b-9e51-a63b071229cf",
   "metadata": {},
   "source": [
    "#### Visualization"
   ]
  },
  {
   "cell_type": "code",
   "execution_count": 7,
   "id": "d0fff020-c479-460a-a0bc-8511100b112a",
   "metadata": {},
   "outputs": [
    {
     "data": {
      "image/png": "[encoded data removed]",
      "text/plain": [
       "<Figure size 432x288 with 1 Axes>"
      ]
     },
     "metadata": {
      "needs_background": "light"
     },
     "output_type": "display_data"
    }
   ],
   "source": [
    "w = classifier.coef_[0]\n",
    "a = -w[0] / w[1]\n",
    "\n",
    "xx = np.linspace(0,12)\n",
    "yy = a * xx - classifier.intercept_[0] / w[1]\n",
    "\n",
    "h0 = plt.plot(xx, yy, 'k-', label=\"Hyperplane\")\n",
    "plt.scatter(X[:, 0], X[:, 1], c='#79AEA3', s=100)\n",
    "plt.legend()\n",
    "plt.show()"
   ]
  },
  {
   "cell_type": "code",
   "execution_count": null,
   "id": "08547095-f474-40bc-84a9-1a66c5beadad",
   "metadata": {},
   "outputs": [],
   "source": []
  },
  {
   "cell_type": "markdown",
   "id": "270887d1-ca27-4650-9bb4-195713b68c3e",
   "metadata": {},
   "source": [
    "## Iris example\n",
    "We want to use the common iris data set for this example. We restrict our data set - as in the last examples - to the first two features: \n",
    "- Sepal length\n",
    "- Sepal width "
   ]
  },
  {
   "cell_type": "code",
   "execution_count": 8,
   "id": "6cb93b5e-12f8-4254-baa9-3f1e385afdff",
   "metadata": {},
   "outputs": [],
   "source": [
    "iris = load_iris()\n",
    "\n",
    "X = iris.data[:, :2]\n",
    "y = iris.target\n",
    "\n",
    "X_train, X_test, y_train, y_test=train_test_split(X, y, test_size=0.2,random_state=123)"
   ]
  },
  {
   "cell_type": "code",
   "execution_count": 9,
   "id": "fdb40d42-365b-4c7a-9aaa-994112688d8a",
   "metadata": {},
   "outputs": [
    {
     "data": {
      "text/plain": [
       "Text(0, 0.5, 'Sepal width')"
      ]
     },
     "execution_count": 9,
     "metadata": {},
     "output_type": "execute_result"
    },
    {
     "data": {
      "image/png": "[encoded data removed]",
      "text/plain": [
       "<Figure size 432x288 with 1 Axes>"
      ]
     },
     "metadata": {
      "needs_background": "light"
     },
     "output_type": "display_data"
    }
   ],
   "source": [
    "# Display the data set\n",
    "plt.scatter(X[:,0], X[:,1], c='#79AEA3')\n",
    "plt.xlabel('Sepal length')\n",
    "plt.ylabel('Sepal width')"
   ]
  },
  {
   "cell_type": "code",
   "execution_count": 10,
   "id": "6d1a1f97-f47c-4ba8-ae90-2f9edc3f0601",
   "metadata": {},
   "outputs": [],
   "source": [
    "def make_meshgrid(x, y, h=0.02):\n",
    "    \"\"\"Create a mesh of points to plot in\n",
    "\n",
    "    Parameters\n",
    "    ----------\n",
    "    x: data to base x-axis meshgrid on\n",
    "    y: data to base y-axis meshgrid on\n",
    "    h: stepsize for meshgrid, optional\n",
    "\n",
    "    Returns\n",
    "    -------\n",
    "    xx, yy : ndarray\n",
    "    \"\"\"\n",
    "    x_min, x_max = x.min() - 1, x.max() + 1\n",
    "    y_min, y_max = y.min() - 1, y.max() + 1\n",
    "    xx, yy = np.meshgrid(np.arange(x_min, x_max, h), np.arange(y_min, y_max, h))\n",
    "    return xx, yy\n",
    "\n",
    "def plot_contours(ax, clf, xx, yy, **params):\n",
    "    \"\"\"Plot the decision boundaries for a classifier.\n",
    "\n",
    "    Parameters\n",
    "    ----------\n",
    "    ax: matplotlib axes object\n",
    "    clf: a classifier\n",
    "    xx: meshgrid ndarray\n",
    "    yy: meshgrid ndarray\n",
    "    params: dictionary of params to pass to contourf, optional\n",
    "    \"\"\"\n",
    "    Z = clf.predict(np.c_[xx.ravel(), yy.ravel()])\n",
    "    Z = Z.reshape(xx.shape)\n",
    "    out = ax.contourf(xx, yy, Z, **params)\n",
    "    return out, Z"
   ]
  },
  {
   "cell_type": "markdown",
   "id": "5f6cfec3-73d1-4320-89a5-2a1a8438fff7",
   "metadata": {},
   "source": [
    "### L06.2.1 Linear SVM"
   ]
  },
  {
   "cell_type": "code",
   "execution_count": 11,
   "id": "ae35c674-3b4d-49be-9169-6f0b831059d8",
   "metadata": {},
   "outputs": [],
   "source": [
    "# Create object on the SVM class\n",
    "model = svm.SVC(kernel=\"linear\", C=1.0)"
   ]
  },
  {
   "cell_type": "code",
   "execution_count": 12,
   "id": "f43fa307-eba1-48a0-a64d-983a00b2f178",
   "metadata": {},
   "outputs": [
    {
     "data": {
      "text/plain": [
       "SVC(kernel='linear')"
      ]
     },
     "execution_count": 12,
     "metadata": {},
     "output_type": "execute_result"
    }
   ],
   "source": [
    "# Learn the SVM based on the input data\n",
    "model.fit(X_train, y_train)"
   ]
  },
  {
   "cell_type": "code",
   "execution_count": 13,
   "id": "e473feb5-cad8-470b-91d7-a07831267528",
   "metadata": {},
   "outputs": [],
   "source": [
    "X0, X1 = X[:, 0], X[:, 1]\n",
    "xx, yy = make_meshgrid(X0, X1)"
   ]
  },
  {
   "cell_type": "code",
   "execution_count": 14,
   "id": "fb98a75f-0484-4ee3-b9f3-4ab692254382",
   "metadata": {},
   "outputs": [
    {
     "data": {
      "image/png": "[encoded data removed]",
      "text/plain": [
       "<Figure size 720x720 with 1 Axes>"
      ]
     },
     "metadata": {},
     "output_type": "display_data"
    }
   ],
   "source": [
    "fig, ax = plt.subplots(figsize=(10,10))\n",
    "\n",
    "n, Z = plot_contours(ax, model, xx, yy, cmap=plt.cm.coolwarm, alpha=0.8)\n",
    "\n",
    "ax.scatter(X0, X1, c=y, cmap=plt.cm.coolwarm, s=20, edgecolors=\"k\")\n",
    "ax.set_xlim(xx.min(), xx.max())\n",
    "ax.set_ylim(yy.min(), yy.max())\n",
    "ax.set_xlabel(\"Sepal length\")\n",
    "ax.set_ylabel(\"Sepal width\")\n",
    "ax.set_xticks([])\n",
    "ax.set_yticks([])\n",
    "plt.show()"
   ]
  },
  {
   "cell_type": "code",
   "execution_count": 15,
   "id": "092e5272-3b42-4754-bb96-20ed92184a83",
   "metadata": {},
   "outputs": [
    {
     "data": {
      "text/plain": [
       "0.8666666666666667"
      ]
     },
     "execution_count": 15,
     "metadata": {},
     "output_type": "execute_result"
    }
   ],
   "source": [
    "model.score(X_test, y_test)"
   ]
  },
  {
   "cell_type": "markdown",
   "id": "ca4f068b-96a6-4d5e-b3f7-129a0ac8bf07",
   "metadata": {},
   "source": [
    "### L06.2.2 RBF kernel"
   ]
  },
  {
   "cell_type": "code",
   "execution_count": 16,
   "id": "9b922281-ac89-485d-918d-ad9ef90380bf",
   "metadata": {},
   "outputs": [],
   "source": [
    "# Create object on the SVM class\n",
    "model = svm.SVC(kernel=\"rbf\", gamma=0.7, C=1.0)"
   ]
  },
  {
   "cell_type": "code",
   "execution_count": 17,
   "id": "0dcb2f20-7f0a-4878-a87b-80bdc69ab172",
   "metadata": {},
   "outputs": [
    {
     "data": {
      "text/plain": [
       "SVC(gamma=0.7)"
      ]
     },
     "execution_count": 17,
     "metadata": {},
     "output_type": "execute_result"
    }
   ],
   "source": [
    "# Learn the SVM based on the input data\n",
    "model.fit(X_train, y_train)"
   ]
  },
  {
   "cell_type": "code",
   "execution_count": 18,
   "id": "1cb0ead2-fedc-4355-8192-ca7b1330409c",
   "metadata": {},
   "outputs": [],
   "source": [
    "X0, X1 = X[:, 0], X[:, 1]\n",
    "xx, yy = make_meshgrid(X0, X1)"
   ]
  },
  {
   "cell_type": "code",
   "execution_count": 19,
   "id": "483e57c6-6912-4fc5-b91f-7f9782ac055a",
   "metadata": {},
   "outputs": [
    {
     "data": {
      "image/png": "[encoded data removed]",
      "text/plain": [
       "<Figure size 720x720 with 1 Axes>"
      ]
     },
     "metadata": {},
     "output_type": "display_data"
    }
   ],
   "source": [
    "fig, ax = plt.subplots(figsize=(10,10))\n",
    "\n",
    "n, Z = plot_contours(ax, model, xx, yy, cmap=plt.cm.coolwarm, alpha=0.8)\n",
    "\n",
    "ax.scatter(X0, X1, c=y, cmap=plt.cm.coolwarm, s=20, edgecolors=\"k\")\n",
    "ax.set_xlim(xx.min(), xx.max())\n",
    "ax.set_ylim(yy.min(), yy.max())\n",
    "ax.set_xlabel(\"Sepal length\")\n",
    "ax.set_ylabel(\"Sepal width\")\n",
    "ax.set_xticks([])\n",
    "ax.set_yticks([])\n",
    "plt.show()"
   ]
  },
  {
   "cell_type": "code",
   "execution_count": 20,
   "id": "19bdabc8-dc61-4ae1-8650-e7a80ceae54d",
   "metadata": {},
   "outputs": [
    {
     "data": {
      "text/plain": [
       "0.8666666666666667"
      ]
     },
     "execution_count": 20,
     "metadata": {},
     "output_type": "execute_result"
    }
   ],
   "source": [
    "model.score(X_test, y_test)"
   ]
  },
  {
   "cell_type": "markdown",
   "id": "9e67e53a-ac3d-4adc-8917-e6cbf39fe7c7",
   "metadata": {},
   "source": [
    "### L06.2.3. Polynomial kernel"
   ]
  },
  {
   "cell_type": "code",
   "execution_count": 21,
   "id": "0855ce6a-ee01-4e23-86b1-d691b5fe82c5",
   "metadata": {},
   "outputs": [],
   "source": [
    "# Create object on the SVM class\n",
    "model = svm.SVC(kernel=\"poly\", degree=3, gamma=\"auto\")"
   ]
  },
  {
   "cell_type": "code",
   "execution_count": 22,
   "id": "9032cfb9-d040-4b0c-a17b-44c7e91bebca",
   "metadata": {},
   "outputs": [
    {
     "data": {
      "text/plain": [
       "SVC(gamma='auto', kernel='poly')"
      ]
     },
     "execution_count": 22,
     "metadata": {},
     "output_type": "execute_result"
    }
   ],
   "source": [
    "# Learn the SVM based on the input data\n",
    "model.fit(X_train, y_train)"
   ]
  },
  {
   "cell_type": "code",
   "execution_count": 23,
   "id": "0b8d0f98-71f3-4c3a-85a3-36ffaef63e54",
   "metadata": {},
   "outputs": [
    {
     "data": {
      "image/png": "[encoded data removed]",
      "text/plain": [
       "<Figure size 720x720 with 1 Axes>"
      ]
     },
     "metadata": {},
     "output_type": "display_data"
    }
   ],
   "source": [
    "fig, ax = plt.subplots(figsize=(10,10))\n",
    "\n",
    "n, Z = plot_contours(ax, model, xx, yy, cmap=plt.cm.coolwarm, alpha=0.8)\n",
    "\n",
    "ax.scatter(X0, X1, c=y, cmap=plt.cm.coolwarm, s=20, edgecolors=\"k\")\n",
    "ax.set_xlim(xx.min(), xx.max())\n",
    "ax.set_ylim(yy.min(), yy.max())\n",
    "ax.set_xlabel(\"Sepal length\")\n",
    "ax.set_ylabel(\"Sepal width\")\n",
    "ax.set_xticks([])\n",
    "ax.set_yticks([])\n",
    "plt.show()"
   ]
  },
  {
   "cell_type": "code",
   "execution_count": 24,
   "id": "5f94a61f-f5a0-4524-b302-2accf428e908",
   "metadata": {},
   "outputs": [
    {
     "data": {
      "text/plain": [
       "0.8333333333333334"
      ]
     },
     "execution_count": 24,
     "metadata": {},
     "output_type": "execute_result"
    }
   ],
   "source": [
    "model.score(X_test, y_test)"
   ]
  },
  {
   "cell_type": "code",
   "execution_count": null,
   "id": "5c52a3f3-2492-4c48-a18c-dc732e0cc75a",
   "metadata": {},
   "outputs": [],
   "source": []
  }
 ],
 "metadata": {
  "kernelspec": {
   "display_name": "Python 3",
   "language": "python",
   "name": "python3"
  },
  "language_info": {
   "codemirror_mode": {
    "name": "ipython",
    "version": 3
   },
   "file_extension": ".py",
   "mimetype": "text/x-python",
   "name": "python",
   "nbconvert_exporter": "python",
   "pygments_lexer": "ipython3",
   "version": "3.9.2"
  }
 },
 "nbformat": 4,
 "nbformat_minor": 5
}
