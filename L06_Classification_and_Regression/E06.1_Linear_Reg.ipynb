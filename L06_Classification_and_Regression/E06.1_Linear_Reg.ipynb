{
 "cells": [
  {
   "cell_type": "markdown",
   "id": "c6b521d7-10ec-41a1-a232-9d98943d9f84",
   "metadata": {},
   "source": [
    "# L06.1 Linear regression \n",
    "In the following we will explain the linear regression by using the sklearn implementation."
   ]
  },
  {
   "cell_type": "markdown",
   "id": "08f01a81-0121-4d06-8cc5-429a7d4f4494",
   "metadata": {},
   "source": [
    "## Include all required libraries"
   ]
  },
  {
   "cell_type": "code",
   "execution_count": null,
   "id": "7d4bce7e-2a99-40ef-ba86-5589f7f769e7",
   "metadata": {},
   "outputs": [],
   "source": [
    "import pandas as pd\n",
    "import numpy as np\n",
    "import matplotlib.pyplot as plt\n",
    "\n",
    "from sklearn.model_selection import train_test_split\n",
    "from sklearn.linear_model import LinearRegression"
   ]
  },
  {
   "cell_type": "markdown",
   "id": "b1ca6d2e-87b1-45bd-9285-72f75cb6e756",
   "metadata": {},
   "source": [
    "## Select the data set.\n",
    "### We start with the non-noisy data"
   ]
  },
  {
   "cell_type": "code",
   "execution_count": null,
   "id": "ab357054-0d44-4526-8e41-e0c5c0ddf356",
   "metadata": {},
   "outputs": [],
   "source": [
    "data_set = 'clean'\n",
    "\n",
    "if data_set == 'clean':\n",
    "    data = pd.read_csv('https://raw.githubusercontent.com/lnxdxC/DSAI/main/L06_Classification_and_Regression/annual_income.csv')\n",
    "else:\n",
    "    data = pd.read_csv('https://raw.githubusercontent.com/lnxdxC/DSAI/main/L06_Classification_and_Regression/annual_income_noisy.csv')\n",
    "\n",
    "X = np.array([data.x.values.tolist(), data.y.values.tolist()])"
   ]
  },
  {
   "cell_type": "markdown",
   "id": "285174ae-a8ec-4b50-8822-84a4ebd94153",
   "metadata": {},
   "source": [
    "## Show the data set \n",
    "It is **important** to check (in our case visual, or using e.g. pearson correlation) that the data correlate!"
   ]
  },
  {
   "cell_type": "code",
   "execution_count": null,
   "id": "f50b6254-d8cd-4764-9264-2e5c6c055aa5",
   "metadata": {},
   "outputs": [],
   "source": [
    "fig, ax = plt.subplots(figsize=(8,8))\n",
    "\n",
    "ax.scatter(X[0,:], X[1,:], s=50, alpha=0.75, color='#79AEA3', label='Data')\n",
    "ax.set_ylabel('Annual income in €')\n",
    "ax.set_xlabel(r'Working experience in years')\n",
    "ax.legend()\n",
    "plt.show()"
   ]
  },
  {
   "cell_type": "markdown",
   "id": "1a7f2bb8-88a0-4bb7-a93c-105fbf2d902e",
   "metadata": {},
   "source": [
    "### Splitting the dataset into train and test data"
   ]
  },
  {
   "cell_type": "code",
   "execution_count": null,
   "id": "2540bd69-09e8-43a9-845f-31e344bc9c0e",
   "metadata": {},
   "outputs": [],
   "source": [
    "X_train, X_test, y_train, y_test = train_test_split(X[0,:], X[1,:])"
   ]
  },
  {
   "cell_type": "code",
   "execution_count": null,
   "id": "cee6210a-798a-4405-b09a-9190c0911624",
   "metadata": {},
   "outputs": [],
   "source": [
    "fig, ax = plt.subplots(figsize=(8,8))\n",
    "\n",
    "ax.scatter(X_train, y_train, s=50, alpha=0.75, color='#79AEA3', label='Training')\n",
    "ax.scatter(X_test, y_test, s=50, alpha=0.75, color='#DB5461', label='Testing')\n",
    "ax.set_ylabel('Annual income in €')\n",
    "ax.set_xlabel(r'Working experience in years')\n",
    "\n",
    "ax.legend()\n",
    "plt.show()"
   ]
  },
  {
   "cell_type": "markdown",
   "id": "4e2bea44-d916-47f5-9709-20416275654d",
   "metadata": {},
   "source": [
    "### Regression (as linear model)"
   ]
  },
  {
   "cell_type": "code",
   "execution_count": null,
   "id": "a9c2323c-fdf8-4d08-aed1-d4cba42af932",
   "metadata": {},
   "outputs": [],
   "source": [
    "# Instantiating LinearRegression-class\n",
    "regressor = LinearRegression()\n",
    "\n",
    "# To match the dimensions (ndim=2) required by the sklearn method, we have to reshape the data\n",
    "X_train = X_train.reshape(X_train.size, 1)\n",
    "y_train = y_train.reshape(y_train.size, 1)\n",
    "\n",
    "X_test = X_test.reshape(X_test.size, 1)\n",
    "y_test = y_test.reshape(y_test.size, 1)\n",
    "\n",
    "# Training/Fitting the Model\n",
    "regressor.fit(X_train, y_train) # We hold the entire model in the regressor-variable (which is an instance of the LinearRegression-class)\n",
    "\n",
    "# Making Predictions. We hand over the independent variable and receive the dependent one (y)\n",
    "prediction = regressor.predict(X_test)"
   ]
  },
  {
   "cell_type": "markdown",
   "id": "a0e54a2f-fcf9-4189-8bc3-d58e8284e6dc",
   "metadata": {},
   "source": [
    "### Display the model"
   ]
  },
  {
   "cell_type": "code",
   "execution_count": null,
   "id": "40cc9a43-48c0-4464-b71f-e485e7d50568",
   "metadata": {},
   "outputs": [],
   "source": [
    "fig, ax = plt.subplots(figsize=(8,8))\n",
    "\n",
    "plt.plot(X_test, prediction, alpha=0.75, color='#79AEA3', label='Predicted: ' + 'y = ' + str(round(regressor.intercept_[0],2)) + ' + ' + str(round(regressor.coef_[0,0],2)) + ' x_i ', marker='o')\n",
    "plt.scatter(X_test, y_test, s=50, alpha=0.75, color='#DB5461', label='Testing')\n",
    "plt.scatter(X_train, y_train, s=50, alpha=0.75, label='Train')\n",
    "\n",
    "ax.set_ylabel('Annual income in €')\n",
    "ax.set_xlabel(r'Working experience in years')\n",
    "\n",
    "ax.legend()\n",
    "plt.show()\n",
    "\n",
    "print()"
   ]
  },
  {
   "cell_type": "markdown",
   "id": "da2d7ab3-9f8d-4329-ab57-1c52682a6642",
   "metadata": {},
   "source": [
    "### Scoring the regression\n",
    "We can use the score method to evaluate the regression. The score is equal to the R² value."
   ]
  },
  {
   "cell_type": "code",
   "execution_count": null,
   "id": "565971e2-2100-4ac8-bdcd-878e97b6b5c4",
   "metadata": {},
   "outputs": [],
   "source": [
    "regressor.score(X_test, y_test)"
   ]
  },
  {
   "cell_type": "markdown",
   "id": "c9c6661a-5b58-4c37-b8d6-5b9146bb9342",
   "metadata": {},
   "source": [
    "## Comparison to noisy data\n",
    "In the following we load the noisy data and apply the identical method. We will discuss the results in the latter."
   ]
  },
  {
   "cell_type": "code",
   "execution_count": null,
   "id": "2786a00a-56bb-40c7-aeb2-17ae394f3783",
   "metadata": {},
   "outputs": [],
   "source": [
    "data = pd.read_csv('https://raw.githubusercontent.com/lnxdxC/DSAI/main/L06_Classification_and_Regression/annual_income_noisy.csv')\n",
    "X = np.array([data.x.values.tolist(), data.y.values.tolist()])\n",
    "\n",
    "# Showing the data\n",
    "fig, ax = plt.subplots(figsize=(8,8))\n",
    "\n",
    "ax.scatter(X[0,:], X[1,:], s=50, alpha=0.75, color='#79AEA3', label='Data')\n",
    "ax.set_ylabel('Annual income in €')\n",
    "ax.set_xlabel(r'Working experience in years')\n",
    "ax.legend()\n",
    "plt.show()"
   ]
  },
  {
   "cell_type": "code",
   "execution_count": null,
   "id": "6e189cd2-5ce4-4ae9-85ec-a3dac4ce0edf",
   "metadata": {},
   "outputs": [],
   "source": [
    "X_train, X_test, y_train, y_test = train_test_split(X[0,:], X[1,:])\n",
    "\n",
    "# Instantiating LinearRegression-class\n",
    "regressor_noisy = LinearRegression()\n",
    "\n",
    "# Training/Fitting the Model\n",
    "regressor_noisy.fit(X_train.reshape(X_train.size, 1), y_train.reshape(y_train.size, 1))\n",
    "\n",
    "# Making Predictions. We hand over the independent variable and receive the dependent one (y)\n",
    "predection_noisy = regressor.predict(X_test.reshape(X_test.size, 1))"
   ]
  },
  {
   "cell_type": "code",
   "execution_count": null,
   "id": "e9a223fd-a77f-475d-ab2b-0a094242acab",
   "metadata": {},
   "outputs": [],
   "source": [
    "regressor_noisy.score(X_test.reshape(X_test.size, 1), y_test.reshape(y_test.size, 1))"
   ]
  },
  {
   "cell_type": "markdown",
   "id": "98d8c94a-b19a-462c-ac38-23edeb029cb7",
   "metadata": {},
   "source": [
    "### Discussion"
   ]
  },
  {
   "cell_type": "markdown",
   "id": "006d7025-b801-479f-88eb-f5de7c772d70",
   "metadata": {},
   "source": [
    "We get a worse model because of the outliers. The model is sensitive to outliers, since they are included in the learning with a factor of 1. Remedy here is a clean data cleansing at the beginning. Methods like RANSAC, Winsorizing etc. deliver good results."
   ]
  },
  {
   "cell_type": "markdown",
   "id": "369ee20a-a0e6-4abb-acfa-ed757778308f",
   "metadata": {},
   "source": [
    "### Visualization"
   ]
  },
  {
   "cell_type": "code",
   "execution_count": null,
   "id": "e177aa89-ec7f-4529-a681-90e49f27cdda",
   "metadata": {},
   "outputs": [],
   "source": [
    "fig, ax = plt.subplots(figsize=(8,8))\n",
    "\n",
    "plt.plot(X_test.reshape(X_test.size, 1), predection_noisy, alpha=0.75, color='#79AEA3', label='Predicted: ' + 'y = ' + str(round(regressor_noisy.intercept_[0],2)) + ' + ' + str(round(regressor_noisy.coef_[0,0],2)) + ' x_i ', marker='o')\n",
    "plt.scatter(X_test, y_test, s=50, alpha=0.75, color='#DB5461', label='Testing')\n",
    "plt.scatter(X_train, y_train, s=50, alpha=0.75, label='Train')\n",
    "\n",
    "ax.set_ylabel('Annual income in €')\n",
    "ax.set_xlabel(r'Working experience in years')\n",
    "\n",
    "ax.legend()\n",
    "plt.show()\n",
    "\n",
    "print()"
   ]
  },
  {
   "cell_type": "markdown",
   "id": "7f343957-7c43-45c6-b078-43676a9aa9a1",
   "metadata": {},
   "source": [
    "# Test the model with user input"
   ]
  },
  {
   "cell_type": "code",
   "execution_count": null,
   "id": "dc48cad0-2ad2-49c2-9715-a489c1c3a869",
   "metadata": {},
   "outputs": [],
   "source": [
    "print('How many years have you been working?')\n",
    "in_yrs = float(input())\n",
    "print('You proberly earn: %1.f € per year'% regressor.predict([[in_yrs]])[0][0])"
   ]
  },
  {
   "cell_type": "code",
   "execution_count": null,
   "id": "3756c55f-5d56-4281-bef4-b5dfbb404238",
   "metadata": {},
   "outputs": [],
   "source": []
  }
 ],
 "metadata": {
  "kernelspec": {
   "display_name": "Python 3",
   "language": "python",
   "name": "python3"
  },
  "language_info": {
   "codemirror_mode": {
    "name": "ipython",
    "version": 3
   },
   "file_extension": ".py",
   "mimetype": "text/x-python",
   "name": "python",
   "nbconvert_exporter": "python",
   "pygments_lexer": "ipython3",
   "version": "3.9.2"
  }
 },
 "nbformat": 4,
 "nbformat_minor": 5
}
