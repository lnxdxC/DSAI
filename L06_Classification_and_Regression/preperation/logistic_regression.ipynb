{
 "cells": [
  {
   "cell_type": "code",
   "execution_count": 5,
   "metadata": {
    "id": "e2EApBFh5N4E"
   },
   "outputs": [],
   "source": [
    "import numpy as np # Import numpy for calculations\n",
    "import matplotlib.pyplot as plt # Import matplotlib for plotting"
   ]
  },
  {
   "cell_type": "code",
   "execution_count": 10,
   "metadata": {
    "id": "rR4K74MVElt-"
   },
   "outputs": [],
   "source": [
    "def random():\n",
    "    \"\"\"\n",
    "    This function will generate a random dataset for us\n",
    "    and it will return x1 and x2 (both are features) and\n",
    "    the corresponding y label.\n",
    "    In the end we will have 20 features which are labeled\n",
    "    with 0 and 30 features which are labeled with 1.\n",
    "    \"\"\"\n",
    "    X1 = []\n",
    "    X2 = []\n",
    "    y = []\n",
    "\n",
    "    np.random.seed(1)\n",
    "    # Generate 20 features with label 0\n",
    "    for i in range(0, 20):\n",
    "        X1.append(i)\n",
    "        X2.append(np.random.randint(100))\n",
    "        y.append(0)\n",
    "\n",
    "    # Generate 30 features with label 1\n",
    "    for i in range(20, 50):\n",
    "        X1.append(i)\n",
    "        X2.append(np.random.randint(80, 300))\n",
    "        y.append(1)\n",
    "\n",
    "    return X1, X2, y"
   ]
  },
  {
   "cell_type": "code",
   "execution_count": 11,
   "metadata": {
    "id": "if0QRP1GEumM"
   },
   "outputs": [],
   "source": [
    "def standardize(data):\n",
    "    \"\"\"\n",
    "    This function will standardize our data\n",
    "    to get a smaller range between our values.\n",
    "    \"\"\"\n",
    "    data -= np.mean(data)\n",
    "    data /= np.std(data)\n",
    "    return data"
   ]
  },
  {
   "cell_type": "code",
   "execution_count": 12,
   "metadata": {
    "id": "B7oEqFRJEvMb"
   },
   "outputs": [],
   "source": [
    "def plot(X):\n",
    "    \"\"\"\n",
    "    X[:, 0] = take all rows but just for the 0th column\n",
    "    X[:, 1] = take all rows but just for the 1th column\n",
    "\n",
    "    example: X = [[3, 5],\n",
    "                [4, 6]]\n",
    "    output for X[:, 0] = [3, 4]\n",
    "    \"\"\"\n",
    "    plt.scatter(X[:, 0], X[:, 1])\n",
    "    plt.xlabel('X1')\n",
    "    plt.ylabel('X2')\n",
    "    plt.show()"
   ]
  },
  {
   "cell_type": "code",
   "execution_count": 13,
   "metadata": {
    "id": "EDM7nny8Fn1j"
   },
   "outputs": [],
   "source": [
    "def sigmoid(X, theta):\n",
    "    z = np.dot(X, theta.T) # Is the same as w0+w1*x0+...\n",
    "    return 1.0/(1 + np.exp(-z)) # Applying our sigmoid function"
   ]
  },
  {
   "cell_type": "markdown",
   "metadata": {
    "id": "AODUHFKGNbXr"
   },
   "source": [
    "![alt text](https://miro.medium.com/max/1454/1*dEZxrHeNGlhfNt-JyRLpig.png)"
   ]
  },
  {
   "cell_type": "code",
   "execution_count": 14,
   "metadata": {
    "id": "pYULOHFZFqm7"
   },
   "outputs": [],
   "source": [
    "def loss_function(h, y):\n",
    "    # This is just the formula above\n",
    "    # h_{theta} will be here our modified sigmoid function\n",
    "    # and y will be our correct given labels\n",
    "    loss = ((-y * np.log(h)) - ((1 - y) * np.log(1 - h))).mean()\n",
    "    return loss"
   ]
  },
  {
   "cell_type": "code",
   "execution_count": 15,
   "metadata": {
    "id": "9X9Ny0wAFtBe"
   },
   "outputs": [],
   "source": [
    "def gradient_descent(X, h, y):\n",
    "    # This is the derivative of our loss function with respect\n",
    "    # to our parameters \n",
    "    return np.dot(X.T, (h - y))/y.shape[0]"
   ]
  },
  {
   "cell_type": "code",
   "execution_count": 16,
   "metadata": {
    "id": "ixHz74VwFwsv"
   },
   "outputs": [],
   "source": [
    "def update_loss(theta, learning_rate, gradient):\n",
    "    return theta - (learning_rate * gradient) # Updating the loss as usally"
   ]
  },
  {
   "cell_type": "code",
   "execution_count": 18,
   "metadata": {
    "id": "P9M8RLvYF0JT"
   },
   "outputs": [],
   "source": [
    "def predict(X, theta):\n",
    "    threshold = 0.5 # This is our decision boundary\n",
    "    outcome = [] # Saving our outcome\n",
    "    # Calculating the result by giving the input data\n",
    "    # to the modified sigmoid function\n",
    "    result = sigmoid(X, theta)\n",
    "    for i in range(X.shape[0]):\n",
    "        # Checks the decision boundary\n",
    "        if result[i] <= threshold:\n",
    "            outcome.append(0)\n",
    "        else:\n",
    "            outcome.append(1)\n",
    "    return outcome"
   ]
  },
  {
   "cell_type": "code",
   "execution_count": 19,
   "metadata": {
    "colab": {
     "base_uri": "https://localhost:8080/",
     "height": 283
    },
    "id": "Z7aB_lxvEwcD",
    "outputId": "16eccf4a-f568-46dd-8b8f-ccaeff8e62a4"
   },
   "outputs": [
    {
     "data": {
      "image/png": "[encoded data removed]",
      "text/plain": [
       "<Figure size 432x288 with 1 Axes>"
      ]
     },
     "metadata": {
      "needs_background": "light"
     },
     "output_type": "display_data"
    }
   ],
   "source": [
    "X1, X2, y = random() # Generate random dataset\n",
    "\n",
    "# Standardize the data to get a normal range\n",
    "X1 = standardize(X1)\n",
    "X2 = standardize(X2)\n",
    "\n",
    "X = np.array(list(zip(X1, X2)))\n",
    "y = np.array(y)\n",
    "\n",
    "plot(X)"
   ]
  },
  {
   "cell_type": "code",
   "execution_count": 20,
   "metadata": {
    "colab": {
     "base_uri": "https://localhost:8080/",
     "height": 202
    },
    "id": "eR95AUsME6zh",
    "outputId": "d30dac03-c8f4-4328-dbb9-b4acd30c1fcc"
   },
   "outputs": [
    {
     "name": "stdout",
     "output_type": "stream",
     "text": [
      "epoch: 0 loss: 0.6931471805599453\n",
      "epoch: 100 loss: 0.13835182625279083\n",
      "epoch: 200 loss: 0.08802405442319312\n",
      "epoch: 300 loss: 0.06692317467281499\n",
      "epoch: 400 loss: 0.054933327462045684\n",
      "epoch: 500 loss: 0.04707805228696062\n",
      "epoch: 600 loss: 0.04147940377250779\n",
      "epoch: 700 loss: 0.03725922897801588\n",
      "epoch: 800 loss: 0.03394813009481125\n",
      "epoch: 900 loss: 0.031270892309706616\n",
      "theta_0: 1.731104110180229 , theta_1: 3.384426535937368, theta_2: 2.841095441821299\n"
     ]
    }
   ],
   "source": [
    "# Feature length\n",
    "m = X.shape[0]\n",
    "\n",
    "# Number of features\n",
    "n = X.shape\n",
    "\n",
    "# Number of labels\n",
    "k = len(np.unique(y))\n",
    "\n",
    "# Add a 1 to all our rows in the dataset\n",
    "intercept = np.ones((X.shape[0], 1))\n",
    "X = np.concatenate((intercept, X), axis=1)\n",
    "\n",
    "# Initialize weights\n",
    "theta = np.zeros(X.shape[1])\n",
    "\n",
    "epochs = 1000\n",
    "\n",
    "for i in range(epochs):\n",
    "    # Calculate the predicted values\n",
    "    h = sigmoid(X, theta)\n",
    "    # Calculate the gradient\n",
    "    gradient = gradient_descent(X, h, y)\n",
    "    # Update our weights\n",
    "    theta = update_loss(theta, 0.1, gradient)\n",
    "\n",
    "    if i % 100 == 0:\n",
    "        print('epoch:', i, 'loss:', loss_function(h, y))\n",
    "\n",
    "outcome = predict(X, theta)\n",
    "print(\"theta_0: {} , theta_1: {}, theta_2: {}\".format(theta[0], theta[1], theta[2]))"
   ]
  },
  {
   "cell_type": "code",
   "execution_count": 21,
   "metadata": {
    "id": "Ixv6j_Bg9me5"
   },
   "outputs": [],
   "source": [
    "def predict_numbers(x, theta):\n",
    "    result = sigmoid(x, theta)\n",
    "    return result"
   ]
  },
  {
   "cell_type": "code",
   "execution_count": 22,
   "metadata": {
    "colab": {
     "base_uri": "https://localhost:8080/",
     "height": 34
    },
    "id": "InKAmmE1Fkbz",
    "outputId": "00179a8e-026f-45f7-dec3-5d36beecc98e"
   },
   "outputs": [
    {
     "data": {
      "text/plain": [
       "0.9980256149860082"
      ]
     },
     "execution_count": 22,
     "metadata": {},
     "output_type": "execute_result"
    }
   ],
   "source": [
    "x = np.array([0, 1, 1]) # [intercept, x1 feature value, x2 feature value]\n",
    "# Predict our input data with our calculated theta parameters\n",
    "predict_numbers(x, np.array([theta[0], theta[1], theta[2]]))"
   ]
  },
  {
   "cell_type": "code",
   "execution_count": null,
   "metadata": {
    "id": "kJNW8I9r_oY6"
   },
   "outputs": [],
   "source": []
  }
 ],
 "metadata": {
  "colab": {
   "collapsed_sections": [],
   "name": "logistic_regression.ipynb",
   "provenance": []
  },
  "kernelspec": {
   "display_name": "Python 3",
   "language": "python",
   "name": "python3"
  },
  "language_info": {
   "codemirror_mode": {
    "name": "ipython",
    "version": 3
   },
   "file_extension": ".py",
   "mimetype": "text/x-python",
   "name": "python",
   "nbconvert_exporter": "python",
   "pygments_lexer": "ipython3",
   "version": "3.9.2"
  }
 },
 "nbformat": 4,
 "nbformat_minor": 4
}
