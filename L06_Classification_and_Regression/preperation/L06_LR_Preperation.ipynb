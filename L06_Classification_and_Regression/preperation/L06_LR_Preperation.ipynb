{
 "cells": [
  {
   "cell_type": "code",
   "execution_count": 1,
   "id": "205a7a84-857c-4d66-a921-38f908b90523",
   "metadata": {},
   "outputs": [],
   "source": [
    "import numpy as np\n",
    "import pandas as pd\n",
    "import matplotlib.pyplot as plt\n",
    "from celluloid import Camera"
   ]
  },
  {
   "cell_type": "code",
   "execution_count": 2,
   "id": "92f234d6-9a6b-4d05-9c86-bbfc521d30e7",
   "metadata": {},
   "outputs": [],
   "source": [
    "data = pd.read_csv('linreg_example.csv')\n",
    "\n",
    "X = np.array([data.x.values.tolist(), data.y.values.tolist()])"
   ]
  },
  {
   "cell_type": "code",
   "execution_count": null,
   "id": "bafd2c60-bc40-4423-b286-da9658e5b9d5",
   "metadata": {},
   "outputs": [],
   "source": [
    "fig, ax = plt.subplots(figsize=(8,8))\n",
    "ax.scatter(x=X[0,:], y=X[1,:], s=150, c='#79AEA3', label='Data')\n",
    "ax.set_ylabel('y')\n",
    "ax.set_xlabel(r'x')\n",
    "\n",
    "ax.set_ylim([-0.5, 5.5])\n",
    "ax.set_xlim([-0.5, 5.5])\n",
    "\n",
    "ax.legend()\n",
    "#fig.savefig('linear_regression_1.png', bbox_inches='tight', transparent=True)"
   ]
  },
  {
   "cell_type": "code",
   "execution_count": null,
   "id": "c130d8fb-1209-4c74-9edb-4091f8ae2b03",
   "metadata": {},
   "outputs": [],
   "source": [
    "def f(x, a, b):\n",
    "    return np.multiply(a, x + b)"
   ]
  },
  {
   "cell_type": "code",
   "execution_count": null,
   "id": "d7f2c2e4-4cbf-4c44-9430-4c95beb95244",
   "metadata": {},
   "outputs": [],
   "source": [
    "px = np.linspace(0, max(X[0,:]), 5)\n",
    "\n",
    "a = [1, 0.64, 0.75, 0.9, 0.683]\n",
    "b = [0, 0.2, 0.4, -0.2, -0.15]\n",
    "\n",
    "camera = Camera(plt.figure(figsize=(8,8)))\n",
    "\n",
    "plt.ylim([-0.5, 5.5])\n",
    "plt.xlim([-0.5, 5.5])\n",
    "\n",
    "for i, x in enumerate(a):\n",
    "    plt.scatter(x=X[0,:], y=X[1,:], s=150, c='#79AEA3', label='Data')\n",
    "    py = f(px, a[i], b[i])    \n",
    "    plt.plot(px, py, alpha=0.4, label='Fit ' + str(i))\n",
    "\n",
    "    camera.snap()\n",
    "    \n",
    "anim = camera.animate(blit=True)\n",
    "anim.save('which_reg.gif', writer='imagemagick')"
   ]
  },
  {
   "cell_type": "code",
   "execution_count": null,
   "id": "d15386fe-9f05-4a82-8546-280dad42cb95",
   "metadata": {},
   "outputs": [],
   "source": [
    "fig, ax = plt.subplots(figsize=(8,8))\n",
    "\n",
    "ax.scatter(x=X[0,:], y=X[1,:], s=150, c='#79AEA3', label='Data')\n",
    "ax.plot([-0.5, 5.5], [np.mean(X[1,:]), np.mean(X[1,:])], c='black', label=r'$y = $' + str(round(np.mean(X[1,:]), 2)))\n",
    "\n",
    "ax.set_ylabel('y')\n",
    "ax.set_xlabel('x')\n",
    "\n",
    "ax.set_ylim([-0.5, 5.5])\n",
    "ax.set_xlim([-0.5, 5.5])\n",
    "\n",
    "ax.legend()\n",
    "fig.savefig('linear_regression_2.png', bbox_inches='tight', transparent=True)"
   ]
  },
  {
   "cell_type": "code",
   "execution_count": null,
   "id": "31491581-95b2-4a3f-9251-a3e05195c2b9",
   "metadata": {},
   "outputs": [],
   "source": []
  },
  {
   "cell_type": "code",
   "execution_count": null,
   "id": "494fec14-b55d-486b-9a38-03f5c5d68149",
   "metadata": {},
   "outputs": [],
   "source": [
    "fig, ax = plt.subplots(figsize=(8,8))\n",
    "\n",
    "ax.scatter(x=X[0,:], y=X[1,:], s=150, c='#79AEA3', label='Data')\n",
    "ax.plot([-0.5, 5.5], [np.mean(X[1,:]), np.mean(X[1,:])], c='black', label=r'$y = $' + str(round(np.mean(X[1,:]), 2)))\n",
    "\n",
    "[ax.plot([val, val], [X[1,idx], np.mean(X[1,:])] , c='#DB5461') for idx, val in enumerate(X[0,:])];\n",
    "\n",
    "ax.set_ylabel('y')\n",
    "ax.set_xlabel('x')\n",
    "\n",
    "ax.text(-0.17, -0.2, r'$x_1, y_1$')\n",
    "ax.text(X[0,0]-0.17, X[1,0] -0.2, r'$x_2, y_2$')\n",
    "ax.text(X[0,1]-0.17, X[1,1] +0.2, r'$x_5, y_5$')\n",
    "ax.text(X[0,2]-0.17, X[1,2] -0.2, r'$x_3, y_3$')\n",
    "ax.text(X[0,3]-0.17, X[1,3] +0.2, r'$x_4, y_4$')\n",
    "\n",
    "ax.set_ylim([-0.5, 5.5])\n",
    "ax.set_xlim([-0.5, 5.5])\n",
    "\n",
    "ax.legend()\n",
    "fig.savefig('linear_regression_3.png', bbox_inches='tight', transparent=True)"
   ]
  },
  {
   "cell_type": "code",
   "execution_count": 4,
   "id": "4eb8fb3b-c672-472e-80d5-c6e43d97eeea",
   "metadata": {},
   "outputs": [],
   "source": [
    "def RSS(y, y_predicted):\n",
    "    return np.sum(np.subtract(y, y_predicted)**2)\n",
    "\n",
    "def TSS(y, y_predicted):\n",
    "    y_mean = np.mean(y)\n",
    "    return np.sum(np.subtract(y_mean, y_predicted)**2)"
   ]
  },
  {
   "cell_type": "code",
   "execution_count": null,
   "id": "9938dc1b-3630-4208-9695-5e60c9fcc100",
   "metadata": {},
   "outputs": [],
   "source": []
  },
  {
   "cell_type": "code",
   "execution_count": null,
   "id": "42e708c6-f9bd-49c0-a0c4-8dd485947c58",
   "metadata": {},
   "outputs": [],
   "source": [
    "y_pred = f(X[0,:], 0.75, 0)\n",
    "\n",
    "print(RSS(X[1,:], y_pred)) "
   ]
  },
  {
   "cell_type": "code",
   "execution_count": null,
   "id": "c7a52ae6-ce46-491b-8a30-0ed68959b25a",
   "metadata": {},
   "outputs": [],
   "source": [
    "y_pred = f(X[0,:], 0.75, 0)\n",
    "\n",
    "for i, val in enumerate(X[0,:]):\n",
    "    print('x' + str(i) +' f(x' + str(i) + '): ' + str(y_pred[i]) + ' RSS: ' + str(np.subtract(X[1, i], y_pred[i])**2))"
   ]
  },
  {
   "cell_type": "code",
   "execution_count": null,
   "id": "19ce94b0-3262-4a1d-aee2-ec3e43ba80ce",
   "metadata": {},
   "outputs": [],
   "source": [
    "rss = []\n",
    "slope = np.linspace(0, 1, 20)\n",
    "\n",
    "for s in slope:\n",
    "    rss.append(RSS(X[1,:], f(X[0,:], s, 0)))\n",
    "    print('b: ' + str(round(s,2 )) + '| RSS: ' + str(rss[-1]))\n",
    "    \n",
    "fig, ax = plt.subplots(figsize=(10,5))\n",
    "ax.plot(slope, rss)"
   ]
  },
  {
   "cell_type": "code",
   "execution_count": null,
   "id": "e6ce8565-390c-4742-8a2d-1814dc09fc4f",
   "metadata": {},
   "outputs": [],
   "source": [
    "rss = []\n",
    "slope = np.linspace(-5, 5, 50)\n",
    "\n",
    "for s in slope:\n",
    "    rss.append(RSS(X[1,:], f(X[0,:], 0.79, s)))\n",
    "    print('b0: ' + str(round(s,2 )) + '| RSS: ' + str(rss[-1]))\n",
    "    \n",
    "fig, ax = plt.subplots(figsize=(10,5))\n",
    "ax.plot(slope, rss)"
   ]
  },
  {
   "cell_type": "code",
   "execution_count": null,
   "id": "bdc01630-d310-4b6b-b759-7cb5ddad0ac6",
   "metadata": {},
   "outputs": [],
   "source": [
    "def f(x, a, b):\n",
    "    return np.multiply(a, x + b)\n",
    "\n",
    "a = 0.75\n",
    "b = 0\n",
    "\n",
    "px = np.linspace(-0.5, 5.5, 10)\n",
    "py = f(px, a, b)\n",
    "\n",
    "fig, ax = plt.subplots(figsize=(8,8))\n",
    "\n",
    "ax.scatter(x=X[0,:], y=X[1,:], s=150, c='#79AEA3', label='Data')\n",
    "ax.plot(px, py, c='black', label=r'$y = ' + str(round(b,2)) + '+ '+ str(round(a,2)) + 'x_1$')\n",
    "\n",
    "[ax.plot([val, val], [X[1,idx], f(val, a, b)] , c='#DB5461') for idx, val in enumerate(X[0,:])];\n",
    "ax.set_ylabel('y')\n",
    "ax.set_xlabel('x')\n",
    "\n",
    "ax.set_ylim([-0.5, 5.5])\n",
    "ax.set_xlim([-0.5, 5.5])\n",
    "\n",
    "ax.legend()\n",
    "fig.savefig('linear_regression_4.png', bbox_inches='tight', transparent=True)"
   ]
  },
  {
   "cell_type": "code",
   "execution_count": 8,
   "id": "87cd6be0-e8ee-4ff3-a801-0c47e0c54cf6",
   "metadata": {},
   "outputs": [
    {
     "name": "stdout",
     "output_type": "stream",
     "text": [
      "0.7349982547790558\n"
     ]
    },
    {
     "data": {
      "image/png": "[encoded data removed]",
      "text/plain": [
       "<Figure size 576x576 with 1 Axes>"
      ]
     },
     "metadata": {
      "needs_background": "light"
     },
     "output_type": "display_data"
    }
   ],
   "source": [
    "def f(x, a, b):\n",
    "    return np.multiply(a, x + b)\n",
    "\n",
    "# Determine R^2-value\n",
    "\n",
    "\n",
    "\n",
    "a = 0.79\n",
    "b = -0.3\n",
    "px = np.linspace(-0.5, 5.5, 10)\n",
    "py = f(px, a, b)\n",
    "\n",
    "\n",
    "r2 = 1- (RSS(X[1,:], f(X[0,:], a, b))/TSS(X[1,:], f(X[0,:], a, b)))\n",
    "print(r2)\n",
    "\n",
    "fig, ax = plt.subplots(figsize=(8, 8))\n",
    "\n",
    "ax.scatter(x=X[0,:], y=X[1,:], s=150, c='#79AEA3', label='Data')\n",
    "ax.plot(px, py, c='black', label=r'$y = b_0 + b_1x_1$')\n",
    "ax.plot(2,0, marker=None, c='#DB5461', label='Residual')\n",
    "\n",
    "ax.set_ylabel('y')\n",
    "ax.set_xlabel('x')\n",
    "\n",
    "ax.set_ylim([-0.5, 5.5])\n",
    "ax.set_xlim([-0.5, 5.5])\n",
    "ax.text(3,0, r'$R^2$ = '+str(round(r2,2)), fontsize=25)\n",
    "\n",
    "ax.legend()\n",
    "fig.savefig('linear_regression_5.png', bbox_inches='tight', transparent=True)"
   ]
  },
  {
   "cell_type": "markdown",
   "id": "b4467b3e-92e9-4259-9116-c911fd9afe69",
   "metadata": {},
   "source": [
    "(b-y_0)² + (b-y_1)² + (b-y_2)² + (b-y_3)² + ... + (b-y_n-1)²"
   ]
  },
  {
   "cell_type": "code",
   "execution_count": null,
   "id": "e7e18d58-3fd2-4937-a5e8-cf81f9150ae9",
   "metadata": {},
   "outputs": [],
   "source": [
    "%matplotlib qt\n",
    "iter = 0  # Initial iteration counter\n",
    "itersteps = 250  # Total number of iterations\n",
    " \n",
    "# Initial guesses for linear regression model of y=mx+b and arrays to keep track of values over iterations\n",
    "m = np.zeros(itersteps)\n",
    "b = np.zeros(itersteps)\n",
    "J = np.zeros(itersteps)\n",
    "\n",
    "# Creating mesh for 3D Surface Plot of MSE\n",
    "mm = np.linspace(-10, 10, 500)\n",
    "bb = np.linspace(-10, 10, 500)\n",
    "mmm, bbb = np.meshgrid(mm, bb)\n",
    " \n",
    "JJ = np.zeros([len(mm), len(bb)])\n",
    "\n",
    "\n",
    "x_test = X[0,:]\n",
    "y_test = X[1,:]\n",
    "n = len(y_test)\n",
    "\n",
    "for i in range(len(mm)):\n",
    "    for j in range(len(bb)):\n",
    "        yy = mmm[i, j] * x_test + bbb[i, j]\n",
    "        JJ[i, j] = 1 / n * np.sum((y_test - yy) ** 2)\n",
    "\n",
    "fig = plt.figure(figsize=(10,10))\n",
    "ax = fig.gca(projection='3d')\n",
    "surf = ax.plot_surface(mmm, bbb, JJ, cmap=plt.cm.bone)\n",
    "#fig3.colorbar(surf)\n",
    " \n",
    "ax.plot(m[:-1], b[:-1], J[:-1], 'red')\n",
    "ax.scatter(m[-2], b[-2], J[-2], c='b', marker=\"o\",label='Gradient Descent')\n",
    "ax.text(m[-2], b[-2], J[-2], '%s' % ('MSE: '+str(round(J[-2],5))), color='k')\n",
    "\n",
    "ax.set_xlabel(r'$b_1$')\n",
    "ax.set_ylabel(r'$b_0$')\n",
    "ax.set_zlabel('MSE')\n",
    "fig.savefig('solution_space.png', bbox_inches='tight', transparent=True)"
   ]
  },
  {
   "cell_type": "code",
   "execution_count": null,
   "id": "14a85168-4e69-47c2-986d-bc8909309afe",
   "metadata": {},
   "outputs": [],
   "source": [
    "from matplotlib import animation\n",
    "\n",
    "def rotate(angle):\n",
    "     ax.view_init(azim=angle)\n",
    "\n",
    "angle = 3\n",
    "ani = animation.FuncAnimation(fig, rotate, frames=np.arange(0, 360, angle), interval=50)\n",
    "ani.save('solution_space.gif', writer=animation.PillowWriter(fps=20)) # , savefig_kwargs={'transparent': True}"
   ]
  }
 ],
 "metadata": {
  "kernelspec": {
   "display_name": "Python 3",
   "language": "python",
   "name": "python3"
  },
  "language_info": {
   "codemirror_mode": {
    "name": "ipython",
    "version": 3
   },
   "file_extension": ".py",
   "mimetype": "text/x-python",
   "name": "python",
   "nbconvert_exporter": "python",
   "pygments_lexer": "ipython3",
   "version": "3.9.2"
  }
 },
 "nbformat": 4,
 "nbformat_minor": 5
}
