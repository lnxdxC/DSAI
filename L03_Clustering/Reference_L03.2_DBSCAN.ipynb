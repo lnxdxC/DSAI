{
 "cells": [
  {
   "cell_type": "code",
   "execution_count": null,
   "id": "e6ac855e-0aeb-44f6-b751-7226a90a8d97",
   "metadata": {},
   "outputs": [],
   "source": [
    "import numpy as np\n",
    "import pandas as pd\n",
    "import matplotlib.pyplot as plt\n",
    "import matplotlib.patches\n",
    "import scipy.spatial as spatial\n",
    "from random import randint\n",
    "import random"
   ]
  },
  {
   "cell_type": "code",
   "execution_count": null,
   "id": "e396e1ca-863d-414b-8481-4892918483d7",
   "metadata": {},
   "outputs": [],
   "source": [
    "data_set = 'yolo'\n",
    "\n",
    "if data_set == 'iris':\n",
    "    from sklearn import datasets\n",
    "    iris = datasets.load_iris()\n",
    "    x = iris.data[:, :2]\n",
    "    df = pd.DataFrame().from_dict({'x': x[:,0], 'y': x[:,1]})\n",
    "    # DBSCAN parameter\n",
    "    eps = 0.2\n",
    "    min_pts = 8\n",
    "else: \n",
    "    df = pd.read_csv('https://raw.githubusercontent.com/lnxdxC/DSAI/main/L03_Clustering/DBSCAN_data.csv')\n",
    "    # DBSCAN parameter\n",
    "    eps = 2\n",
    "    min_pts = 3\n",
    "    \n",
    "# Search tree\n",
    "search_tree = spatial.cKDTree(np.c_[df.x, df.y])"
   ]
  },
  {
   "cell_type": "code",
   "execution_count": null,
   "id": "9a4a0de0-f0c0-4fe6-910c-bfbbe6c10836",
   "metadata": {},
   "outputs": [],
   "source": [
    "# Allocate new channels to store cluster information\n",
    "df['id'] = np.nan\n",
    "df['color'] = '#000000'"
   ]
  },
  {
   "cell_type": "code",
   "execution_count": null,
   "id": "efd626ac-27af-41c5-8654-990b924db63d",
   "metadata": {},
   "outputs": [],
   "source": [
    "# Show the data set\n",
    "df.plot.scatter(x='x', y='y', s=50, alpha=0.5);"
   ]
  },
  {
   "cell_type": "markdown",
   "id": "52d7f42c-0575-4d77-afa4-56c7b350a0ac",
   "metadata": {},
   "source": [
    "# DBSCAN\n",
    "Density-Based Spatial Clustering of Applications with Noise (DBSCAN) has 2 core parameters which have to be assigned before we can start: \n",
    "1. $\\epsilon$\n",
    "2. ```min_pts```\n",
    "\n",
    "Here $\\epsilon$ represents the radius of a circle around a particular point within the dataset and ```min_pts``` denotes a threshold used in the clustering process to distinguish between a cluster, a border, and a noise point."
   ]
  },
  {
   "cell_type": "code",
   "execution_count": null,
   "id": "53a6746a-c20f-4bb6-889d-139b62ba9cc3",
   "metadata": {},
   "outputs": [],
   "source": [
    "def get_points_within_circle(df, idx, eps, search_tree=search_tree):\n",
    "    \"\"\"\n",
    "    We have to find all elements around a given centroid, within given radius epsilon. \\n\n",
    "    For efficient code, we use kd-tree search.\n",
    "    \n",
    "    :param df: data frame\n",
    "    :param idx: actual index of the data set\n",
    "    :param eps: radius of the circle\n",
    "    :param search_tree: kd-tree \n",
    "    \"\"\"\n",
    "    \n",
    "    return search_tree.query_ball_point([df.x[idx],df.y[idx]], eps)"
   ]
  },
  {
   "cell_type": "code",
   "execution_count": null,
   "id": "6f67006b-8d5a-46e0-b3b1-73957e656bca",
   "metadata": {},
   "outputs": [],
   "source": [
    "def get_point_type(df, point_types, idx, circle_points, min_pts=3):\n",
    "    \"\"\"\n",
    "    Based on the amount of points within the circle, we assign either border, core, or noise point at a given position\n",
    "    \n",
    "    :param df: data frame\n",
    "    :param point_types: variable to store the information of the point types\n",
    "    :param idx: actual index of the data set\n",
    "    :param circle_points: points within the actual circle\n",
    "    :param min_pts: amount of points to be within the circle to assign core point to pt[idx]\n",
    "    \"\"\"    \n",
    "    if len(circle_points) - 1 == 0:  # We have to subtract one, since our centroid is also included in circle_points\n",
    "        point_types['noise'].append(idx)\n",
    "    else:\n",
    "        n_pts = len(circle_points) - 1\n",
    "\n",
    "        if n_pts >= min_pts:\n",
    "            point_types['core'].extend(circle_points)\n",
    "\n",
    "        elif (n_pts < min_pts) and (n_pts != 0):\n",
    "            point_types['border'].append(idx)\n",
    "\n",
    "    return point_types, df"
   ]
  },
  {
   "cell_type": "code",
   "execution_count": null,
   "id": "3bcd2b5f-7577-45d7-9bd7-c42fff10f599",
   "metadata": {},
   "outputs": [],
   "source": [
    "def update_class(df, circle_points, key='id', range=75):\n",
    "    \"\"\"\n",
    "    Update the class affiliation. If at least one element within the class has already a cluster ID, we assign all members of the circle to that cluster.  \\n\n",
    "    Additionally, we have to look up in the data frame to all\n",
    "    \"\"\"\n",
    "    # If any value is nan, we assign a random number to it\n",
    "    if len(circle_points) == 1:\n",
    "        return df\n",
    "\n",
    "    if all(df[key][circle_points].isna()):\n",
    "        df['id'][circle_points] = np.random.randint(1, range)\n",
    "    else:\n",
    "        # Set all values in the df to the max value if matching within circle\n",
    "        for item in df[key][circle_points].unique():\n",
    "            if np.isnan(item):\n",
    "                continue\n",
    "            df['id'][circle_points] = df[key][circle_points].max()\n",
    "            \n",
    "            # Seed a random value to get new colors\n",
    "            random.seed()\n",
    "            df['color'][df['id'] == item] = '#%06X' % randint(0, 0xFFFFFF)\n",
    "\n",
    "    return df"
   ]
  },
  {
   "cell_type": "code",
   "execution_count": null,
   "id": "f0242db3-52ec-45c8-b729-086a38bc8469",
   "metadata": {},
   "outputs": [],
   "source": [
    "point_types = {'core':   [],\n",
    "               'border': [],\n",
    "               'noise':  []}\n",
    "\n",
    "# Create figure\n",
    "fig, ax = plt.subplots(figsize=(10, 10))\n",
    "\n",
    "draw_result = False\n",
    "break_at = 2\n",
    "\n",
    "for idx, _ in enumerate(df.x):\n",
    "    \n",
    "    circle_points = get_points_within_circle(df, idx, eps, search_tree)\n",
    "\n",
    "    point_types, df = get_point_type(df, point_types, idx, circle_points, min_pts)\n",
    "\n",
    "    df = update_class(df, circle_points)\n",
    "    \n",
    "    if draw_result:\n",
    "        ax.scatter(df.x, df.y, color=df.color, s=50)\n",
    "\n",
    "        # Draw current point\n",
    "        ax.scatter(df.x[idx], df.y[idx], marker='h', label='current point', s=50)\n",
    "        # Draw circle around current point\n",
    "        circle = plt.Circle((df.x[idx], df.y[idx]), eps, alpha=0.3, edgecolor='k')\n",
    "        ax.add_patch(circle)\n",
    "\n",
    "        # Draw points within the circle\n",
    "        ax.scatter(df.x[circle_points], df.y[circle_points], color='b', s=50)\n",
    "        ax.scatter(df.x[idx], df.y[idx], color='m', marker='x', s=50)\n",
    "\n",
    "        # Draw noise points\n",
    "        ax.scatter(df.x[point_types['noise']], df.y[point_types['noise']], marker='*', color='r', s=50)\n",
    "\n",
    "        # Draw border points\n",
    "        ax.scatter(df.x[point_types['border']], df.y[point_types['border']], color='m', s=50)\n",
    "        \n",
    "        if idx == break_at:\n",
    "            break\n",
    "            \n",
    "ax.scatter(df.x, df.y, color=df.color, s=50)"
   ]
  },
  {
   "cell_type": "markdown",
   "id": "ad0ae0a7-fd62-4a12-b234-628f48cdf33a",
   "metadata": {},
   "source": [
    "# sklearn implementation"
   ]
  },
  {
   "cell_type": "code",
   "execution_count": null,
   "id": "2be0f79e-638e-4f25-b2a6-dbcb109ae8c0",
   "metadata": {},
   "outputs": [],
   "source": [
    "from sklearn.cluster import DBSCAN"
   ]
  },
  {
   "cell_type": "code",
   "execution_count": null,
   "id": "55f5af9c-227e-4e32-9334-69be24542584",
   "metadata": {},
   "outputs": [],
   "source": [
    "# Since sklearn requires data in (n,2)-shape, we have to prepare them\n",
    "X = np.array([df.x, df.y]).T"
   ]
  },
  {
   "cell_type": "code",
   "execution_count": null,
   "id": "7690e028-a7cb-4e35-9df3-6d80e1fd597a",
   "metadata": {},
   "outputs": [],
   "source": [
    "db = DBSCAN(eps=eps, min_samples=min_pts).fit(X)\n",
    "core_samples_mask = np.zeros_like(db.labels_, dtype=bool)\n",
    "core_samples_mask[db.core_sample_indices_] = True\n",
    "labels = db.labels_"
   ]
  },
  {
   "cell_type": "code",
   "execution_count": null,
   "id": "fd0ed45a-0e88-499a-8735-34a6a0f3adea",
   "metadata": {},
   "outputs": [],
   "source": [
    "# Black removed and is used for noise instead.\n",
    "unique_labels = set(labels)\n",
    "colors = [plt.cm.Spectral(each) for each in np.linspace(0, 1, len(unique_labels))]\n",
    "\n",
    "fig, ax = plt.subplots(2, figsize=(10, 10))\n",
    "\n",
    "for k, col in zip(unique_labels, colors):\n",
    "    if k == -1:\n",
    "        # Black used for noise.\n",
    "        col = [0, 0, 0, 1]\n",
    "\n",
    "    class_member_mask = labels == k\n",
    "\n",
    "    xy = X[class_member_mask & core_samples_mask]\n",
    "    ax[0].plot( xy[:, 0], xy[:, 1], \"o\", markerfacecolor=tuple(col), markeredgecolor=\"k\", markersize=14)\n",
    "\n",
    "    xy = X[class_member_mask & ~core_samples_mask]\n",
    "    ax[0].plot(xy[:, 0], xy[:, 1], \"o\", markerfacecolor=tuple(col), markeredgecolor=\"k\", markersize=6)\n",
    "ax[1].scatter(df.x, df.y, color=df.color, s=50)  \n",
    "plt.show()"
   ]
  },
  {
   "cell_type": "markdown",
   "id": "b0b478a4-a1a4-4d82-a86e-a6cc1b662d8c",
   "metadata": {},
   "source": [
    "## Large scale DBSCAN"
   ]
  },
  {
   "cell_type": "code",
   "execution_count": null,
   "id": "d77982a3-4e4e-424e-9ee1-00f5cbb1ed83",
   "metadata": {},
   "outputs": [],
   "source": [
    "df = pd.read_csv('https://raw.githubusercontent.com/lnxdxC/DSAI/main/L03_Clustering/t48k.csv')\n",
    "X = np.array([df.x, df.y]).T"
   ]
  },
  {
   "cell_type": "code",
   "execution_count": null,
   "id": "7cf2b3b0-5fc6-4ee1-9d7c-09d93f7d8535",
   "metadata": {},
   "outputs": [],
   "source": [
    "X = np.array([df.x, df.y]).T"
   ]
  },
  {
   "cell_type": "code",
   "execution_count": null,
   "id": "ae7b37b9-a0be-4f96-be6e-d0c6a4cad9a6",
   "metadata": {},
   "outputs": [],
   "source": [
    "db = DBSCAN(eps=8, min_samples=15).fit(X)\n",
    "core_samples_mask = np.zeros_like(db.labels_, dtype=bool)\n",
    "core_samples_mask[db.core_sample_indices_] = True\n",
    "labels = db.labels_"
   ]
  },
  {
   "cell_type": "code",
   "execution_count": null,
   "id": "fb87db52-c228-4ffe-9998-a00ee02bf45e",
   "metadata": {},
   "outputs": [],
   "source": [
    "# Black removed and is used for noise instead.\n",
    "unique_labels = set(labels)\n",
    "colors = [plt.cm.Spectral(each) for each in np.linspace(0, 1, len(unique_labels))]\n",
    "\n",
    "fig, ax = plt.subplots(figsize=(10, 5))\n",
    "\n",
    "for k, col in zip(unique_labels, colors):\n",
    "    if k == -1:\n",
    "        # Black used for noise.\n",
    "        col = [0, 0, 0, 1]\n",
    "\n",
    "    class_member_mask = labels == k\n",
    "\n",
    "    xy = X[class_member_mask & core_samples_mask]\n",
    "    ax.plot( xy[:, 0], xy[:, 1], \"o\", markerfacecolor=tuple(col), markeredgecolor=\"k\", markersize=14)\n",
    "\n",
    "    xy = X[class_member_mask & ~core_samples_mask]\n",
    "    ax.plot(xy[:, 0], xy[:, 1], \"o\", markerfacecolor=tuple(col), markeredgecolor=\"k\", markersize=6)\n",
    "plt.show()"
   ]
  },
  {
   "cell_type": "code",
   "execution_count": null,
   "id": "d6068f0e-84ba-4376-ae84-288229807e52",
   "metadata": {},
   "outputs": [],
   "source": []
  }
 ],
 "metadata": {
  "kernelspec": {
   "display_name": "Python 3",
   "language": "python",
   "name": "python3"
  },
  "language_info": {
   "codemirror_mode": {
    "name": "ipython",
    "version": 3
   },
   "file_extension": ".py",
   "mimetype": "text/x-python",
   "name": "python",
   "nbconvert_exporter": "python",
   "pygments_lexer": "ipython3",
   "version": "3.9.2"
  }
 },
 "nbformat": 4,
 "nbformat_minor": 5
}
