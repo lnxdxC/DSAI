{
 "cells": [
  {
   "cell_type": "markdown",
   "metadata": {
    "id": "ESHGw_Kudkf4"
   },
   "source": [
    "Created by Florent Poux, 2021. Licence MIT\n",
    "\n",
    "*   To reuse in your project, please cite the article accessible here: \n",
    "[To Medium Article](https://towardsdatascience.com/how-to-automate-lidar-point-cloud-processing-with-python-a027454a536c)\n",
    "*   Have fun with this notebook that you can very simply run (ctrl+Enter) !\n",
    "*   Simply accept, and then change the input path by the folder path containing your data, on Google Drive or your system.\n",
    "\n",
    "Enjoy!"
   ]
  },
  {
   "cell_type": "markdown",
   "metadata": {
    "id": "TLxlwD5AdI57"
   },
   "source": [
    "# Step 1 & 2: Setting up the environment and loading the data"
   ]
  },
  {
   "cell_type": "code",
   "execution_count": 1,
   "metadata": {
    "id": "Uzrw-UieNDPt"
   },
   "outputs": [
    {
     "name": "stdout",
     "output_type": "stream",
     "text": [
      "Jupyter environment detected. Enabling Open3D WebVisualizer.\n",
      "[Open3D INFO] WebRTC GUI backend enabled.\n",
      "[Open3D INFO] WebRTCWindowSystem: HTTP handshake server disabled.\n"
     ]
    }
   ],
   "source": [
    "#libraries used\n",
    "import numpy as np\n",
    "import open3d as o3d\n",
    "import matplotlib.pyplot as plt"
   ]
  },
  {
   "cell_type": "code",
   "execution_count": 2,
   "metadata": {
    "id": "uCPkhRyEe9UM"
   },
   "outputs": [],
   "source": [
    "#create paths and load data\n",
    "dataname=\"TLS_kitchen.ply\"\n",
    "\n",
    "pcd = o3d.io.read_point_cloud(dataname)"
   ]
  },
  {
   "cell_type": "markdown",
   "metadata": {
    "id": "7WY2eB86-VmB"
   },
   "source": [
    "# Step 3: First segmentation round"
   ]
  },
  {
   "cell_type": "markdown",
   "metadata": {
    "id": "29wM_-RvastM"
   },
   "source": [
    "## 3.1 [Optional] Normals computation"
   ]
  },
  {
   "cell_type": "code",
   "execution_count": 3,
   "metadata": {
    "colab": {
     "base_uri": "https://localhost:8080/",
     "height": 554
    },
    "id": "YXvaMwuTbAS0",
    "outputId": "8373eb56-a2ac-4971-cfd5-c9a80c972f9a"
   },
   "outputs": [],
   "source": [
    "pcd.estimate_normals(search_param=o3d.geometry.KDTreeSearchParamHybrid(radius=0.1, max_nn=16), fast_normal_computation=True)\n",
    "pcd.paint_uniform_color([0.6, 0.6, 0.6])\n",
    "o3d.visualization.draw_geometries([pcd]) #Works only outside Jupyter/Colab"
   ]
  },
  {
   "cell_type": "markdown",
   "metadata": {
    "id": "PcnfugguA7SE"
   },
   "source": [
    "## 3.2 [INITIATION] 3D Shape Detection with RANSAC"
   ]
  },
  {
   "cell_type": "code",
   "execution_count": 5,
   "metadata": {
    "colab": {
     "base_uri": "https://localhost:8080/"
    },
    "id": "IJ1soC6MbAEL",
    "outputId": "c719fc61-0158-43dc-efe5-c8314128ca82"
   },
   "outputs": [
    {
     "name": "stdout",
     "output_type": "stream",
     "text": [
      "Plane equation: 0.00x + 0.00y + 1.00z + -0.96 = 0\n"
     ]
    },
    {
     "data": {
      "text/plain": [
       "PointCloud with 380097 points."
      ]
     },
     "execution_count": 5,
     "metadata": {},
     "output_type": "execute_result"
    }
   ],
   "source": [
    "plane_model, inliers = pcd.segment_plane(distance_threshold=0.01,ransac_n=3,num_iterations=1000)\n",
    "[a, b, c, d] = plane_model\n",
    "print(f\"Plane equation: {a:.2f}x + {b:.2f}y + {c:.2f}z + {d:.2f} = 0\")\n",
    "inlier_cloud = pcd.select_by_index(inliers)\n",
    "outlier_cloud = pcd.select_by_index(inliers, invert=True)\n",
    "inlier_cloud.paint_uniform_color([1.0, 0, 0])\n",
    "outlier_cloud.paint_uniform_color([0.6, 0.6, 0.6])\n",
    "#o3d.visualization.draw_geometries([inlier_cloud, outlier_cloud])"
   ]
  },
  {
   "cell_type": "markdown",
   "metadata": {
    "id": "HhDERLqiAvz0"
   },
   "source": [
    "## 3.3 [INITIATION] Clustering with DBSCAN"
   ]
  },
  {
   "cell_type": "code",
   "execution_count": 6,
   "metadata": {
    "colab": {
     "base_uri": "https://localhost:8080/"
    },
    "id": "HAf9_b8XbALb",
    "outputId": "37b9aca2-7cf7-4916-c266-683991d9e1e5"
   },
   "outputs": [
    {
     "name": "stdout",
     "output_type": "stream",
     "text": [
      "point cloud has 13 clusters\n"
     ]
    }
   ],
   "source": [
    "labels = np.array(pcd.cluster_dbscan(eps=0.05, min_points=10))\n",
    "max_label = labels.max()\n",
    "print(f\"point cloud has {max_label + 1} clusters\")\n",
    "\n",
    "colors = plt.get_cmap(\"tab20\")(labels / (max_label if max_label > 0 else 1))\n",
    "colors[labels < 0] = 0\n",
    "pcd.colors = o3d.utility.Vector3dVector(colors[:, :3])\n",
    "\n",
    "o3d.visualization.draw_geometries([pcd])"
   ]
  },
  {
   "cell_type": "markdown",
   "metadata": {
    "id": "P4FOjG-HBoL7"
   },
   "source": [
    "# Step 4: Scaling and automation"
   ]
  },
  {
   "cell_type": "markdown",
   "metadata": {
    "id": "aopUeqanB6Ts"
   },
   "source": [
    "## 4.1 RANSAC loop for multiple planar shapes detection"
   ]
  },
  {
   "cell_type": "code",
   "execution_count": 7,
   "metadata": {
    "id": "YAA_4H15a_3F"
   },
   "outputs": [
    {
     "name": "stdout",
     "output_type": "stream",
     "text": [
      "pass 0 / 10 done.\n",
      "pass 1 / 10 done.\n",
      "pass 2 / 10 done.\n",
      "pass 3 / 10 done.\n",
      "pass 4 / 10 done.\n",
      "pass 5 / 10 done.\n",
      "pass 6 / 10 done.\n",
      "pass 7 / 10 done.\n",
      "pass 8 / 10 done.\n",
      "pass 9 / 10 done.\n"
     ]
    }
   ],
   "source": [
    "segment_models={}\n",
    "segments={}\n",
    "max_plane_idx=10\n",
    "rest=pcd\n",
    "for i in range(max_plane_idx):\n",
    "    colors = plt.get_cmap(\"tab20\")(i)\n",
    "    segment_models[i], inliers = rest.segment_plane(distance_threshold=0.01,ransac_n=3,num_iterations=1000)\n",
    "    segments[i]=rest.select_by_index(inliers)\n",
    "    segments[i].paint_uniform_color(list(colors[:3]))\n",
    "    rest = rest.select_by_index(inliers, invert=True)\n",
    "    print(\"pass\",i,\"/\",max_plane_idx,\"done.\")\n",
    "\n",
    "o3d.visualization.draw_geometries([segments[i] for i in range(max_plane_idx)]+[rest])"
   ]
  },
  {
   "cell_type": "markdown",
   "metadata": {
    "id": "KpyNfJ1KCQOD"
   },
   "source": [
    "## 4.2 Refined RANSAC with Euclidean clustering"
   ]
  },
  {
   "cell_type": "code",
   "execution_count": 8,
   "metadata": {
    "id": "k0R5wErVbFqT"
   },
   "outputs": [
    {
     "name": "stdout",
     "output_type": "stream",
     "text": [
      "the best candidate is:  0\n",
      "pass 1 / 30 done.\n",
      "the best candidate is:  0\n",
      "pass 2 / 30 done.\n",
      "the best candidate is:  0\n",
      "pass 3 / 30 done.\n",
      "the best candidate is:  0\n",
      "pass 4 / 30 done.\n",
      "the best candidate is:  0\n",
      "pass 5 / 30 done.\n",
      "the best candidate is:  1\n",
      "pass 6 / 30 done.\n",
      "the best candidate is:  0\n",
      "pass 7 / 30 done.\n",
      "the best candidate is:  0\n",
      "pass 8 / 30 done.\n",
      "the best candidate is:  0\n",
      "pass 9 / 30 done.\n",
      "the best candidate is:  2\n",
      "pass 10 / 30 done.\n",
      "the best candidate is:  1\n",
      "pass 11 / 30 done.\n",
      "the best candidate is:  1\n",
      "pass 12 / 30 done.\n",
      "the best candidate is:  0\n",
      "pass 13 / 30 done.\n",
      "the best candidate is:  4\n",
      "pass 14 / 30 done.\n",
      "the best candidate is:  4\n",
      "pass 15 / 30 done.\n",
      "the best candidate is:  1\n",
      "pass 16 / 30 done.\n",
      "the best candidate is:  0\n",
      "pass 17 / 30 done.\n",
      "the best candidate is:  1\n",
      "pass 18 / 30 done.\n",
      "the best candidate is:  6\n",
      "pass 19 / 30 done.\n",
      "the best candidate is:  0\n",
      "pass 20 / 30 done.\n",
      "the best candidate is:  1\n",
      "pass 21 / 30 done.\n",
      "the best candidate is:  0\n",
      "pass 22 / 30 done.\n",
      "the best candidate is:  2\n",
      "pass 23 / 30 done.\n",
      "the best candidate is:  2\n",
      "pass 24 / 30 done.\n",
      "the best candidate is:  8\n",
      "pass 25 / 30 done.\n",
      "the best candidate is:  0\n",
      "pass 26 / 30 done.\n",
      "the best candidate is:  0\n",
      "pass 27 / 30 done.\n",
      "the best candidate is:  0\n",
      "pass 28 / 30 done.\n",
      "the best candidate is:  0\n",
      "pass 29 / 30 done.\n",
      "the best candidate is:  0\n",
      "pass 30 / 30 done.\n"
     ]
    }
   ],
   "source": [
    "segment_models={}\n",
    "segments={}\n",
    "max_plane_idx=30\n",
    "rest=pcd\n",
    "d_threshold=0.01\n",
    "for i in range(max_plane_idx):\n",
    "    colors = plt.get_cmap(\"tab20\")(i)\n",
    "    segment_models[i], inliers = rest.segment_plane(distance_threshold=0.01,ransac_n=3,num_iterations=1000)\n",
    "    segments[i]=rest.select_by_index(inliers)\n",
    "    labels = np.array(segments[i].cluster_dbscan(eps=d_threshold*10, min_points=10))\n",
    "    candidates=[len(np.where(labels==j)[0]) for j in np.unique(labels)]\n",
    "    best_candidate=int(np.unique(labels)[np.where(candidates==np.max(candidates))[0]])\n",
    "    print(\"the best candidate is: \", best_candidate)\n",
    "    rest = rest.select_by_index(inliers, invert=True)+segments[i].select_by_index(list(np.where(labels!=best_candidate)[0]))\n",
    "    segments[i]=segments[i].select_by_index(list(np.where(labels==best_candidate)[0]))\n",
    "    segments[i].paint_uniform_color(list(colors[:3]))\n",
    "    print(\"pass\",i+1,\"/\",max_plane_idx,\"done.\")"
   ]
  },
  {
   "cell_type": "markdown",
   "metadata": {
    "id": "R59CGwoPCcDn"
   },
   "source": [
    "## 4.3 Euclidean clustering of the rest with DBSCAN"
   ]
  },
  {
   "cell_type": "code",
   "execution_count": 9,
   "metadata": {
    "id": "g-rsI5kbbFjs"
   },
   "outputs": [
    {
     "name": "stdout",
     "output_type": "stream",
     "text": [
      "point cloud has 112 clusters\n"
     ]
    }
   ],
   "source": [
    "labels = np.array(rest.cluster_dbscan(eps=0.05, min_points=5))\n",
    "max_label = labels.max()\n",
    "print(f\"point cloud has {max_label + 1} clusters\")\n",
    "\n",
    "colors = plt.get_cmap(\"tab10\")(labels / (max_label if max_label > 0 else 1))\n",
    "colors[labels < 0] = 0\n",
    "rest.colors = o3d.utility.Vector3dVector(colors[:, :3])\n",
    "\n",
    "# o3d.visualization.draw_geometries([segments.values()])\n",
    "# o3d.visualization.draw_geometries([segments[i] for i in range(max_plane_idx)]+[rest])\n",
    "o3d.visualization.draw_geometries([segments[i] for i in range(max_plane_idx)]+[rest],zoom=0.3199,front=[0.30159062875123849, 0.94077325609922868, 0.15488309545553303],lookat=[-3.9559999108314514, -0.055000066757202148, -0.27599999308586121],up=[-0.044411423633999815, -0.138726419067636, 0.98753122516983349])\n",
    "# o3d.visualization.draw_geometries([rest])"
   ]
  },
  {
   "cell_type": "code",
   "execution_count": null,
   "metadata": {},
   "outputs": [],
   "source": []
  }
 ],
 "metadata": {
  "colab": {
   "collapsed_sections": [],
   "name": "Kopie von 3D-Point-cloud-automatic-segmentation-with-Python.ipynb",
   "provenance": []
  },
  "kernelspec": {
   "display_name": "Python 3",
   "language": "python",
   "name": "python3"
  },
  "language_info": {
   "codemirror_mode": {
    "name": "ipython",
    "version": 3
   },
   "file_extension": ".py",
   "mimetype": "text/x-python",
   "name": "python",
   "nbconvert_exporter": "python",
   "pygments_lexer": "ipython3",
   "version": "3.9.2"
  }
 },
 "nbformat": 4,
 "nbformat_minor": 4
}
