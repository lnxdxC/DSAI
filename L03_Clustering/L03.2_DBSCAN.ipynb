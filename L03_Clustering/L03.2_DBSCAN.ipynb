{
 "cells": [
  {
   "cell_type": "code",
   "execution_count": null,
   "id": "e6ac855e-0aeb-44f6-b751-7226a90a8d97",
   "metadata": {},
   "outputs": [],
   "source": [
    "import numpy as np\n",
    "import pandas as pd\n",
    "import matplotlib.pyplot as plt\n",
    "import matplotlib.patches\n",
    "import scipy.spatial as spatial\n",
    "from random import randint\n",
    "import random"
   ]
  },
  {
   "cell_type": "code",
   "execution_count": null,
   "id": "e396e1ca-863d-414b-8481-4892918483d7",
   "metadata": {},
   "outputs": [],
   "source": [
    "data_set = 'yolo'\n",
    "\n",
    "if data_set == 'iris':\n",
    "    from sklearn import datasets\n",
    "    iris = datasets.load_iris()\n",
    "    x = iris.data[:, :2]\n",
    "    df = pd.DataFrame().from_dict({'x': x[:,0], 'y': x[:,1]})\n",
    "    # DBSCAN parameter\n",
    "    eps = 0.2\n",
    "    min_pts = 8\n",
    "else: \n",
    "    df = pd.read_csv('https://raw.githubusercontent.com/lnxdxC/DSAI/main/L03_Clustering/DBSCAN_data.csv')\n",
    "    # DBSCAN parameter\n",
    "    eps = 2\n",
    "    min_pts = 3\n",
    "    \n",
    "# Search tree\n",
    "search_tree = spatial.cKDTree(np.c_[df.x, df.y])"
   ]
  },
  {
   "cell_type": "code",
   "execution_count": null,
   "id": "9a4a0de0-f0c0-4fe6-910c-bfbbe6c10836",
   "metadata": {},
   "outputs": [],
   "source": [
    "# Allocate new channels to store cluster information\n",
    "df['id'] = np.nan\n",
    "df['color'] = '#000000'"
   ]
  },
  {
   "cell_type": "code",
   "execution_count": null,
   "id": "efd626ac-27af-41c5-8654-990b924db63d",
   "metadata": {},
   "outputs": [],
   "source": [
    "# Show the data set\n",
    "df.plot.scatter(x='x', y='y', s=50, alpha=0.5);"
   ]
  },
  {
   "cell_type": "markdown",
   "id": "52d7f42c-0575-4d77-afa4-56c7b350a0ac",
   "metadata": {},
   "source": [
    "# DBSCAN\n",
    "Density-Based Spatial Clustering of Applications with Noise (DBSCAN) has 2 core parameters which have to be assigned before we can start: \n",
    "1. $\\epsilon$\n",
    "2. ```min_pts```\n",
    "\n",
    "Here $\\epsilon$ represents the radius of a circle around a particular point within the dataset and ```min_pts``` denotes a threshold used in the clustering process to distinguish between a cluster, a border, and a noise point."
   ]
  },
  {
   "cell_type": "markdown",
   "id": "ad0ae0a7-fd62-4a12-b234-628f48cdf33a",
   "metadata": {},
   "source": [
    "# sklearn implementation"
   ]
  },
  {
   "cell_type": "markdown",
   "id": "b0b478a4-a1a4-4d82-a86e-a6cc1b662d8c",
   "metadata": {},
   "source": [
    "## Large scale DBSCAN"
   ]
  },
  {
   "cell_type": "code",
   "execution_count": null,
   "id": "d77982a3-4e4e-424e-9ee1-00f5cbb1ed83",
   "metadata": {},
   "outputs": [],
   "source": [
    "df = pd.read_csv('https://raw.githubusercontent.com/lnxdxC/DSAI/main/L03_Clustering/t48k.csv')\n",
    "X = np.array([df.x, df.y]).T"
   ]
  },
  {
   "cell_type": "code",
   "execution_count": null,
   "id": "7cf2b3b0-5fc6-4ee1-9d7c-09d93f7d8535",
   "metadata": {},
   "outputs": [],
   "source": [
    "X = np.array([df.x, df.y]).T"
   ]
  },
  {
   "cell_type": "code",
   "execution_count": null,
   "id": "ae7b37b9-a0be-4f96-be6e-d0c6a4cad9a6",
   "metadata": {},
   "outputs": [],
   "source": [
    "db = DBSCAN(eps=8, min_samples=15).fit(X)\n",
    "core_samples_mask = np.zeros_like(db.labels_, dtype=bool)\n",
    "core_samples_mask[db.core_sample_indices_] = True\n",
    "labels = db.labels_"
   ]
  },
  {
   "cell_type": "code",
   "execution_count": null,
   "id": "fb87db52-c228-4ffe-9998-a00ee02bf45e",
   "metadata": {},
   "outputs": [],
   "source": [
    "# Black removed and is used for noise instead.\n",
    "unique_labels = set(labels)\n",
    "colors = [plt.cm.Spectral(each) for each in np.linspace(0, 1, len(unique_labels))]\n",
    "\n",
    "fig, ax = plt.subplots(figsize=(10, 5))\n",
    "\n",
    "for k, col in zip(unique_labels, colors):\n",
    "    if k == -1:\n",
    "        # Black used for noise.\n",
    "        col = [0, 0, 0, 1]\n",
    "\n",
    "    class_member_mask = labels == k\n",
    "\n",
    "    xy = X[class_member_mask & core_samples_mask]\n",
    "    ax.plot( xy[:, 0], xy[:, 1], \"o\", markerfacecolor=tuple(col), markeredgecolor=\"k\", markersize=14)\n",
    "\n",
    "    xy = X[class_member_mask & ~core_samples_mask]\n",
    "    ax.plot(xy[:, 0], xy[:, 1], \"o\", markerfacecolor=tuple(col), markeredgecolor=\"k\", markersize=6)\n",
    "plt.show()"
   ]
  },
  {
   "cell_type": "code",
   "execution_count": null,
   "id": "d6068f0e-84ba-4376-ae84-288229807e52",
   "metadata": {},
   "outputs": [],
   "source": []
  }
 ],
 "metadata": {
  "kernelspec": {
   "display_name": "Python 3",
   "language": "python",
   "name": "python3"
  },
  "language_info": {
   "codemirror_mode": {
    "name": "ipython",
    "version": 3
   },
   "file_extension": ".py",
   "mimetype": "text/x-python",
   "name": "python",
   "nbconvert_exporter": "python",
   "pygments_lexer": "ipython3",
   "version": "3.9.2"
  }
 },
 "nbformat": 4,
 "nbformat_minor": 5
}
