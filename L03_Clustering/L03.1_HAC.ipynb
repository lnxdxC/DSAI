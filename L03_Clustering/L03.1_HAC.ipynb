{
 "cells": [
  {
   "cell_type": "code",
   "execution_count": null,
   "id": "dc2d9369-a940-4311-8519-3a1617900262",
   "metadata": {},
   "outputs": [],
   "source": [
    "# Include numpy and link instance to variable np\n",
    "import numpy as np\n",
    "\n",
    "# Include library and link instance to plt\n",
    "import matplotlib.pyplot as plt\n",
    "\n",
    "# Scikit learn for data set and other methods\n",
    "from sklearn import datasets\n",
    "\n",
    "# We will use the HAC implementation within the scipy-lib\n",
    "from scipy.cluster.hierarchy import dendrogram, linkage"
   ]
  },
  {
   "cell_type": "code",
   "execution_count": null,
   "id": "009a6be3-46ad-48df-ae91-dda3f86ccbbe",
   "metadata": {},
   "outputs": [],
   "source": [
    "# using the common iris data set\n",
    "iris = datasets.load_iris()\n",
    "x = iris.data[:, :2] # retrieve only the data we are interested in"
   ]
  },
  {
   "cell_type": "code",
   "execution_count": null,
   "id": "2ff5fac2-988c-41df-adf4-2c9527f88f34",
   "metadata": {},
   "outputs": [],
   "source": [
    "# Show the data set in a sufficient graph. Scatter plots are perfect for clusters (up to 3 dimensions)\n",
    "fig, ax = plt.subplots(figsize=(8,8))\n",
    "ax.scatter(x[:,0], x[:,1], s=15, alpha=0.5) # set alpha=0.5 to identify overlapping points, since we can \"look through\" the points\n",
    "plt.show()"
   ]
  },
  {
   "cell_type": "code",
   "execution_count": null,
   "id": "c00b1b4a-6827-4eb4-baa4-75654e9f7659",
   "metadata": {},
   "outputs": [],
   "source": [
    "# Dimensions\n",
    "x.shape"
   ]
  },
  {
   "cell_type": "markdown",
   "id": "275892b7-2f74-4e2c-a470-c0fc155cda70",
   "metadata": {},
   "source": [
    "# L03.1 [Hierarchical Agglomerative Clustering](https://docs.scipy.org/doc/scipy/reference/generated/scipy.cluster.hierarchy.linkage.html)"
   ]
  },
  {
   "cell_type": "code",
   "execution_count": null,
   "id": "a4263eca-c748-43d0-86f3-ba8c608a90d3",
   "metadata": {},
   "outputs": [],
   "source": [
    "# generate the linkage matrix\n",
    "Z = linkage(y=x, method='complete', metric='euclidean', optimal_ordering=False)  # Be aware of the method. The results will vary"
   ]
  },
  {
   "cell_type": "markdown",
   "id": "e8532277-7fac-49de-ab61-0b852d371d5f",
   "metadata": {},
   "source": [
    "### Performance of the clustering\n",
    "To get a feeling how good the linkage keeps the pairwise distances we use the so-called cophenetic correlation. The cophenetic correlation $ c$ is a measure of how faithfully a dendrogram peserves the pairwise distances between the original data points.\n",
    "\\begin{align}\n",
    "{\\displaystyle c={\\frac {\\sum _{i<j}[x(i,j)-{\\bar {x}}][t(i,j)-{\\bar {t}}]}{\\sqrt {\\sum _{i<j}[x(i,j)-{\\bar {x}}]^{2}\\sum _{i<j}[t(i,j)-{\\bar {t}}]^{2}}}}}\n",
    "\\end{align} with\n",
    "\\begin{align}\n",
    "    {\\displaystyle x(i,j)=|X_{i}-X_{j}|}\n",
    "\\end{align} as the Euclidean distance between the $i$ th and $j$ th observations. $\\bar{x} $ describes hereby the average of $ x(i, j) $. We denote $ t(i,j) $ as the dendrogrammatic distance between the model points $ T_{i} $ and $ T_{j}$. This distance is the height of the node at which these two points are first joined together.\n",
    "\n",
    "Limits: \n",
    "\\begin{align}\n",
    " 0 \\leq c \\leq 1\n",
    "\\end{align}"
   ]
  },
  {
   "cell_type": "code",
   "execution_count": null,
   "id": "079bcec5-02ac-441c-b623-b23d22538c9b",
   "metadata": {},
   "outputs": [],
   "source": [
    "# To apply the performance evaluation, we simply include further libraries.\n",
    "from scipy.cluster.hierarchy import cophenet\n",
    "from scipy.spatial.distance import pdist\n",
    "\n",
    "c, coph_dists = cophenet(Z, pdist(x))\n",
    "\n",
    "print(c)"
   ]
  },
  {
   "cell_type": "code",
   "execution_count": null,
   "id": "57a98930-e39f-4678-9cd9-55a3874c3bc5",
   "metadata": {},
   "outputs": [],
   "source": [
    "fig, ax = plt.subplots(figsize=(15, 5))\n",
    "plt.title('HAC: complete linkage')\n",
    "ax.set_xlabel('Index')\n",
    "ax.set_ylabel('Distance')\n",
    "dendrogram(Z);"
   ]
  },
  {
   "cell_type": "code",
   "execution_count": null,
   "id": "04deedc5-608b-4392-b228-6e9275906986",
   "metadata": {},
   "outputs": [],
   "source": [
    "fig, ax = plt.subplots(figsize=(15, 5))\n",
    "plt.title('HAC: ward')\n",
    "ax.set_xlabel('Index')\n",
    "ax.set_ylabel('Distance')\n",
    "dendrogram(linkage(y=x, method='ward'))\n",
    "plt.show()"
   ]
  },
  {
   "cell_type": "code",
   "execution_count": null,
   "id": "e75e4b54-fd08-4029-8042-2a08e0cab396",
   "metadata": {},
   "outputs": [],
   "source": []
  }
 ],
 "metadata": {
  "kernelspec": {
   "display_name": "Python 3",
   "language": "python",
   "name": "python3"
  },
  "language_info": {
   "codemirror_mode": {
    "name": "ipython",
    "version": 3
   },
   "file_extension": ".py",
   "mimetype": "text/x-python",
   "name": "python",
   "nbconvert_exporter": "python",
   "pygments_lexer": "ipython3",
   "version": "3.9.2"
  }
 },
 "nbformat": 4,
 "nbformat_minor": 5
}
